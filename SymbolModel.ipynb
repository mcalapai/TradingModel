{
 "cells": [
  {
   "cell_type": "markdown",
   "id": "complimentary-redhead",
   "metadata": {},
   "source": [
    "# Model\n",
    "## Prepare Data"
   ]
  },
  {
   "cell_type": "code",
   "execution_count": 369,
   "id": "through-missile",
   "metadata": {},
   "outputs": [],
   "source": [
    "import xgboost as xgb\n",
    "from xgboost import XGBClassifier\n",
    "from sklearn.metrics import mean_squared_error\n",
    "from sklearn.model_selection import train_test_split\n",
    "from sklearn.metrics import accuracy_score\n",
    "from sklearn.base import BaseEstimator, TransformerMixin\n",
    "from sklearn.preprocessing import OrdinalEncoder\n",
    "from sklearn.impute import SimpleImputer\n",
    "from sklearn.compose import ColumnTransformer\n",
    "from sklearn.ensemble import RandomForestClassifier\n",
    "from sklearn.model_selection import cross_val_score\n",
    "from sklearn.model_selection import cross_val_predict\n",
    "from sklearn.metrics import roc_curve\n",
    "from sklearn.metrics import roc_auc_score\n",
    "from sklearn.metrics import f1_score"
   ]
  },
  {
   "cell_type": "code",
   "execution_count": 370,
   "id": "small-gibson",
   "metadata": {},
   "outputs": [
    {
     "data": {
      "text/html": [
       "<div>\n",
       "<style scoped>\n",
       "    .dataframe tbody tr th:only-of-type {\n",
       "        vertical-align: middle;\n",
       "    }\n",
       "\n",
       "    .dataframe tbody tr th {\n",
       "        vertical-align: top;\n",
       "    }\n",
       "\n",
       "    .dataframe thead th {\n",
       "        text-align: right;\n",
       "    }\n",
       "</style>\n",
       "<table border=\"1\" class=\"dataframe\">\n",
       "  <thead>\n",
       "    <tr style=\"text-align: right;\">\n",
       "      <th></th>\n",
       "      <th>Close__fft_coefficient__attr_\"abs\"__coeff_8</th>\n",
       "      <th>Open__fft_coefficient__attr_\"abs\"__coeff_8</th>\n",
       "      <th>Close__change_quantiles__f_agg_\"mean\"__isabs_False__qh_1.0__ql_0.2</th>\n",
       "      <th>Open__time_reversal_asymmetry_statistic__lag_2</th>\n",
       "      <th>Low__fft_coefficient__attr_\"abs\"__coeff_8</th>\n",
       "      <th>Close__fft_coefficient__attr_\"abs\"__coeff_77</th>\n",
       "      <th>High__fft_coefficient__attr_\"abs\"__coeff_8</th>\n",
       "      <th>Open__agg_linear_trend__attr_\"stderr\"__chunk_len_10__f_agg_\"mean\"</th>\n",
       "      <th>Close__fft_coefficient__attr_\"abs\"__coeff_9</th>\n",
       "      <th>Close__agg_linear_trend__attr_\"stderr\"__chunk_len_10__f_agg_\"mean\"</th>\n",
       "      <th>...</th>\n",
       "      <th>pvr_1h</th>\n",
       "      <th>pvt_1h</th>\n",
       "      <th>atr_1h</th>\n",
       "      <th>massi_1h</th>\n",
       "      <th>natr_1h</th>\n",
       "      <th>pdist_1h</th>\n",
       "      <th>rvi_1h</th>\n",
       "      <th>true_range_1h</th>\n",
       "      <th>ui_1h</th>\n",
       "      <th>Signal</th>\n",
       "    </tr>\n",
       "  </thead>\n",
       "  <tbody>\n",
       "    <tr>\n",
       "      <th>1</th>\n",
       "      <td>0.025173</td>\n",
       "      <td>0.019282</td>\n",
       "      <td>0.000017</td>\n",
       "      <td>1.120082e-10</td>\n",
       "      <td>0.018433</td>\n",
       "      <td>0.015561</td>\n",
       "      <td>0.020456</td>\n",
       "      <td>0.000015</td>\n",
       "      <td>0.033452</td>\n",
       "      <td>0.000016</td>\n",
       "      <td>...</td>\n",
       "      <td>2.0</td>\n",
       "      <td>1.120777e+05</td>\n",
       "      <td>0.089935</td>\n",
       "      <td>23.888011</td>\n",
       "      <td>0.089935</td>\n",
       "      <td>0.500000</td>\n",
       "      <td>78.298970</td>\n",
       "      <td>0.071429</td>\n",
       "      <td>0.949848</td>\n",
       "      <td>0</td>\n",
       "    </tr>\n",
       "    <tr>\n",
       "      <th>2</th>\n",
       "      <td>0.027645</td>\n",
       "      <td>0.024743</td>\n",
       "      <td>-0.000128</td>\n",
       "      <td>-1.655072e-09</td>\n",
       "      <td>0.029262</td>\n",
       "      <td>0.063929</td>\n",
       "      <td>0.026581</td>\n",
       "      <td>0.000019</td>\n",
       "      <td>0.016536</td>\n",
       "      <td>0.000018</td>\n",
       "      <td>...</td>\n",
       "      <td>1.0</td>\n",
       "      <td>3.217259e+06</td>\n",
       "      <td>0.043994</td>\n",
       "      <td>27.941065</td>\n",
       "      <td>0.039851</td>\n",
       "      <td>0.195122</td>\n",
       "      <td>60.049549</td>\n",
       "      <td>-0.078431</td>\n",
       "      <td>1.198276</td>\n",
       "      <td>0</td>\n",
       "    </tr>\n",
       "    <tr>\n",
       "      <th>3</th>\n",
       "      <td>0.097952</td>\n",
       "      <td>0.097848</td>\n",
       "      <td>0.000003</td>\n",
       "      <td>1.489567e-07</td>\n",
       "      <td>0.099890</td>\n",
       "      <td>0.079549</td>\n",
       "      <td>0.105300</td>\n",
       "      <td>0.000061</td>\n",
       "      <td>0.050563</td>\n",
       "      <td>0.000078</td>\n",
       "      <td>...</td>\n",
       "      <td>3.0</td>\n",
       "      <td>-7.547686e+06</td>\n",
       "      <td>0.052630</td>\n",
       "      <td>27.839936</td>\n",
       "      <td>0.075122</td>\n",
       "      <td>1.461538</td>\n",
       "      <td>60.431281</td>\n",
       "      <td>1.500000</td>\n",
       "      <td>1.357485</td>\n",
       "      <td>0</td>\n",
       "    </tr>\n",
       "    <tr>\n",
       "      <th>4</th>\n",
       "      <td>0.079002</td>\n",
       "      <td>0.073262</td>\n",
       "      <td>-0.000059</td>\n",
       "      <td>1.805896e-07</td>\n",
       "      <td>0.068182</td>\n",
       "      <td>0.218195</td>\n",
       "      <td>0.081098</td>\n",
       "      <td>0.000067</td>\n",
       "      <td>0.054259</td>\n",
       "      <td>0.000071</td>\n",
       "      <td>...</td>\n",
       "      <td>3.0</td>\n",
       "      <td>1.498906e+07</td>\n",
       "      <td>0.056029</td>\n",
       "      <td>25.668623</td>\n",
       "      <td>0.083977</td>\n",
       "      <td>-0.157895</td>\n",
       "      <td>64.213403</td>\n",
       "      <td>0.666667</td>\n",
       "      <td>2.765895</td>\n",
       "      <td>0</td>\n",
       "    </tr>\n",
       "    <tr>\n",
       "      <th>5</th>\n",
       "      <td>0.011948</td>\n",
       "      <td>0.012573</td>\n",
       "      <td>0.000051</td>\n",
       "      <td>2.452577e-08</td>\n",
       "      <td>0.005004</td>\n",
       "      <td>0.038104</td>\n",
       "      <td>0.026740</td>\n",
       "      <td>0.000035</td>\n",
       "      <td>0.066697</td>\n",
       "      <td>0.000035</td>\n",
       "      <td>...</td>\n",
       "      <td>2.0</td>\n",
       "      <td>1.996005e+08</td>\n",
       "      <td>-0.043785</td>\n",
       "      <td>25.332876</td>\n",
       "      <td>-0.046282</td>\n",
       "      <td>-0.222222</td>\n",
       "      <td>48.106505</td>\n",
       "      <td>-0.500000</td>\n",
       "      <td>2.459982</td>\n",
       "      <td>0</td>\n",
       "    </tr>\n",
       "    <tr>\n",
       "      <th>...</th>\n",
       "      <td>...</td>\n",
       "      <td>...</td>\n",
       "      <td>...</td>\n",
       "      <td>...</td>\n",
       "      <td>...</td>\n",
       "      <td>...</td>\n",
       "      <td>...</td>\n",
       "      <td>...</td>\n",
       "      <td>...</td>\n",
       "      <td>...</td>\n",
       "      <td>...</td>\n",
       "      <td>...</td>\n",
       "      <td>...</td>\n",
       "      <td>...</td>\n",
       "      <td>...</td>\n",
       "      <td>...</td>\n",
       "      <td>...</td>\n",
       "      <td>...</td>\n",
       "      <td>...</td>\n",
       "      <td>...</td>\n",
       "      <td>...</td>\n",
       "    </tr>\n",
       "    <tr>\n",
       "      <th>567</th>\n",
       "      <td>0.054252</td>\n",
       "      <td>0.053628</td>\n",
       "      <td>0.000356</td>\n",
       "      <td>4.513117e-08</td>\n",
       "      <td>0.038030</td>\n",
       "      <td>0.099610</td>\n",
       "      <td>0.062078</td>\n",
       "      <td>0.000053</td>\n",
       "      <td>0.024424</td>\n",
       "      <td>0.000051</td>\n",
       "      <td>...</td>\n",
       "      <td>1.0</td>\n",
       "      <td>2.467890e+09</td>\n",
       "      <td>0.032179</td>\n",
       "      <td>25.313792</td>\n",
       "      <td>0.016911</td>\n",
       "      <td>1.290780</td>\n",
       "      <td>60.995930</td>\n",
       "      <td>2.080000</td>\n",
       "      <td>1.308526</td>\n",
       "      <td>1</td>\n",
       "    </tr>\n",
       "    <tr>\n",
       "      <th>568</th>\n",
       "      <td>0.063140</td>\n",
       "      <td>0.063244</td>\n",
       "      <td>0.000369</td>\n",
       "      <td>4.557885e-09</td>\n",
       "      <td>0.062615</td>\n",
       "      <td>0.051681</td>\n",
       "      <td>0.069387</td>\n",
       "      <td>0.000030</td>\n",
       "      <td>0.030721</td>\n",
       "      <td>0.000037</td>\n",
       "      <td>...</td>\n",
       "      <td>1.0</td>\n",
       "      <td>3.133532e+08</td>\n",
       "      <td>0.097127</td>\n",
       "      <td>27.898363</td>\n",
       "      <td>0.043694</td>\n",
       "      <td>3.447853</td>\n",
       "      <td>46.628815</td>\n",
       "      <td>4.146552</td>\n",
       "      <td>2.307550</td>\n",
       "      <td>0</td>\n",
       "    </tr>\n",
       "    <tr>\n",
       "      <th>569</th>\n",
       "      <td>0.069970</td>\n",
       "      <td>0.085123</td>\n",
       "      <td>0.000478</td>\n",
       "      <td>8.217633e-09</td>\n",
       "      <td>0.052260</td>\n",
       "      <td>0.129587</td>\n",
       "      <td>0.093118</td>\n",
       "      <td>0.000104</td>\n",
       "      <td>0.130834</td>\n",
       "      <td>0.000093</td>\n",
       "      <td>...</td>\n",
       "      <td>1.0</td>\n",
       "      <td>8.767011e+08</td>\n",
       "      <td>0.110751</td>\n",
       "      <td>25.682154</td>\n",
       "      <td>0.041315</td>\n",
       "      <td>1.775000</td>\n",
       "      <td>44.519228</td>\n",
       "      <td>2.798817</td>\n",
       "      <td>7.456411</td>\n",
       "      <td>0</td>\n",
       "    </tr>\n",
       "    <tr>\n",
       "      <th>570</th>\n",
       "      <td>0.034097</td>\n",
       "      <td>0.075156</td>\n",
       "      <td>0.000434</td>\n",
       "      <td>-3.480053e-08</td>\n",
       "      <td>0.063712</td>\n",
       "      <td>0.081296</td>\n",
       "      <td>0.039088</td>\n",
       "      <td>0.000063</td>\n",
       "      <td>0.063256</td>\n",
       "      <td>0.000059</td>\n",
       "      <td>...</td>\n",
       "      <td>2.0</td>\n",
       "      <td>6.175397e+08</td>\n",
       "      <td>0.012233</td>\n",
       "      <td>26.136251</td>\n",
       "      <td>0.006171</td>\n",
       "      <td>0.215139</td>\n",
       "      <td>68.513471</td>\n",
       "      <td>-0.236842</td>\n",
       "      <td>1.531669</td>\n",
       "      <td>1</td>\n",
       "    </tr>\n",
       "    <tr>\n",
       "      <th>571</th>\n",
       "      <td>0.047150</td>\n",
       "      <td>0.044387</td>\n",
       "      <td>-0.000238</td>\n",
       "      <td>1.448610e-07</td>\n",
       "      <td>0.042481</td>\n",
       "      <td>0.112624</td>\n",
       "      <td>0.051550</td>\n",
       "      <td>0.000042</td>\n",
       "      <td>0.042488</td>\n",
       "      <td>0.000069</td>\n",
       "      <td>...</td>\n",
       "      <td>NaN</td>\n",
       "      <td>NaN</td>\n",
       "      <td>NaN</td>\n",
       "      <td>NaN</td>\n",
       "      <td>NaN</td>\n",
       "      <td>NaN</td>\n",
       "      <td>NaN</td>\n",
       "      <td>NaN</td>\n",
       "      <td>NaN</td>\n",
       "      <td>0</td>\n",
       "    </tr>\n",
       "  </tbody>\n",
       "</table>\n",
       "<p>571 rows × 930 columns</p>\n",
       "</div>"
      ],
      "text/plain": [
       "     Close__fft_coefficient__attr_\"abs\"__coeff_8  \\\n",
       "1                                       0.025173   \n",
       "2                                       0.027645   \n",
       "3                                       0.097952   \n",
       "4                                       0.079002   \n",
       "5                                       0.011948   \n",
       "..                                           ...   \n",
       "567                                     0.054252   \n",
       "568                                     0.063140   \n",
       "569                                     0.069970   \n",
       "570                                     0.034097   \n",
       "571                                     0.047150   \n",
       "\n",
       "     Open__fft_coefficient__attr_\"abs\"__coeff_8  \\\n",
       "1                                      0.019282   \n",
       "2                                      0.024743   \n",
       "3                                      0.097848   \n",
       "4                                      0.073262   \n",
       "5                                      0.012573   \n",
       "..                                          ...   \n",
       "567                                    0.053628   \n",
       "568                                    0.063244   \n",
       "569                                    0.085123   \n",
       "570                                    0.075156   \n",
       "571                                    0.044387   \n",
       "\n",
       "     Close__change_quantiles__f_agg_\"mean\"__isabs_False__qh_1.0__ql_0.2  \\\n",
       "1                                             0.000017                    \n",
       "2                                            -0.000128                    \n",
       "3                                             0.000003                    \n",
       "4                                            -0.000059                    \n",
       "5                                             0.000051                    \n",
       "..                                                 ...                    \n",
       "567                                           0.000356                    \n",
       "568                                           0.000369                    \n",
       "569                                           0.000478                    \n",
       "570                                           0.000434                    \n",
       "571                                          -0.000238                    \n",
       "\n",
       "     Open__time_reversal_asymmetry_statistic__lag_2  \\\n",
       "1                                      1.120082e-10   \n",
       "2                                     -1.655072e-09   \n",
       "3                                      1.489567e-07   \n",
       "4                                      1.805896e-07   \n",
       "5                                      2.452577e-08   \n",
       "..                                              ...   \n",
       "567                                    4.513117e-08   \n",
       "568                                    4.557885e-09   \n",
       "569                                    8.217633e-09   \n",
       "570                                   -3.480053e-08   \n",
       "571                                    1.448610e-07   \n",
       "\n",
       "     Low__fft_coefficient__attr_\"abs\"__coeff_8  \\\n",
       "1                                     0.018433   \n",
       "2                                     0.029262   \n",
       "3                                     0.099890   \n",
       "4                                     0.068182   \n",
       "5                                     0.005004   \n",
       "..                                         ...   \n",
       "567                                   0.038030   \n",
       "568                                   0.062615   \n",
       "569                                   0.052260   \n",
       "570                                   0.063712   \n",
       "571                                   0.042481   \n",
       "\n",
       "     Close__fft_coefficient__attr_\"abs\"__coeff_77  \\\n",
       "1                                        0.015561   \n",
       "2                                        0.063929   \n",
       "3                                        0.079549   \n",
       "4                                        0.218195   \n",
       "5                                        0.038104   \n",
       "..                                            ...   \n",
       "567                                      0.099610   \n",
       "568                                      0.051681   \n",
       "569                                      0.129587   \n",
       "570                                      0.081296   \n",
       "571                                      0.112624   \n",
       "\n",
       "     High__fft_coefficient__attr_\"abs\"__coeff_8  \\\n",
       "1                                      0.020456   \n",
       "2                                      0.026581   \n",
       "3                                      0.105300   \n",
       "4                                      0.081098   \n",
       "5                                      0.026740   \n",
       "..                                          ...   \n",
       "567                                    0.062078   \n",
       "568                                    0.069387   \n",
       "569                                    0.093118   \n",
       "570                                    0.039088   \n",
       "571                                    0.051550   \n",
       "\n",
       "     Open__agg_linear_trend__attr_\"stderr\"__chunk_len_10__f_agg_\"mean\"  \\\n",
       "1                                             0.000015                   \n",
       "2                                             0.000019                   \n",
       "3                                             0.000061                   \n",
       "4                                             0.000067                   \n",
       "5                                             0.000035                   \n",
       "..                                                 ...                   \n",
       "567                                           0.000053                   \n",
       "568                                           0.000030                   \n",
       "569                                           0.000104                   \n",
       "570                                           0.000063                   \n",
       "571                                           0.000042                   \n",
       "\n",
       "     Close__fft_coefficient__attr_\"abs\"__coeff_9  \\\n",
       "1                                       0.033452   \n",
       "2                                       0.016536   \n",
       "3                                       0.050563   \n",
       "4                                       0.054259   \n",
       "5                                       0.066697   \n",
       "..                                           ...   \n",
       "567                                     0.024424   \n",
       "568                                     0.030721   \n",
       "569                                     0.130834   \n",
       "570                                     0.063256   \n",
       "571                                     0.042488   \n",
       "\n",
       "     Close__agg_linear_trend__attr_\"stderr\"__chunk_len_10__f_agg_\"mean\"  ...  \\\n",
       "1                                             0.000016                   ...   \n",
       "2                                             0.000018                   ...   \n",
       "3                                             0.000078                   ...   \n",
       "4                                             0.000071                   ...   \n",
       "5                                             0.000035                   ...   \n",
       "..                                                 ...                   ...   \n",
       "567                                           0.000051                   ...   \n",
       "568                                           0.000037                   ...   \n",
       "569                                           0.000093                   ...   \n",
       "570                                           0.000059                   ...   \n",
       "571                                           0.000069                   ...   \n",
       "\n",
       "     pvr_1h        pvt_1h    atr_1h   massi_1h   natr_1h  pdist_1h     rvi_1h  \\\n",
       "1       2.0  1.120777e+05  0.089935  23.888011  0.089935  0.500000  78.298970   \n",
       "2       1.0  3.217259e+06  0.043994  27.941065  0.039851  0.195122  60.049549   \n",
       "3       3.0 -7.547686e+06  0.052630  27.839936  0.075122  1.461538  60.431281   \n",
       "4       3.0  1.498906e+07  0.056029  25.668623  0.083977 -0.157895  64.213403   \n",
       "5       2.0  1.996005e+08 -0.043785  25.332876 -0.046282 -0.222222  48.106505   \n",
       "..      ...           ...       ...        ...       ...       ...        ...   \n",
       "567     1.0  2.467890e+09  0.032179  25.313792  0.016911  1.290780  60.995930   \n",
       "568     1.0  3.133532e+08  0.097127  27.898363  0.043694  3.447853  46.628815   \n",
       "569     1.0  8.767011e+08  0.110751  25.682154  0.041315  1.775000  44.519228   \n",
       "570     2.0  6.175397e+08  0.012233  26.136251  0.006171  0.215139  68.513471   \n",
       "571     NaN           NaN       NaN        NaN       NaN       NaN        NaN   \n",
       "\n",
       "     true_range_1h     ui_1h  Signal  \n",
       "1         0.071429  0.949848       0  \n",
       "2        -0.078431  1.198276       0  \n",
       "3         1.500000  1.357485       0  \n",
       "4         0.666667  2.765895       0  \n",
       "5        -0.500000  2.459982       0  \n",
       "..             ...       ...     ...  \n",
       "567       2.080000  1.308526       1  \n",
       "568       4.146552  2.307550       0  \n",
       "569       2.798817  7.456411       0  \n",
       "570      -0.236842  1.531669       1  \n",
       "571            NaN       NaN       0  \n",
       "\n",
       "[571 rows x 930 columns]"
      ]
     },
     "execution_count": 370,
     "metadata": {},
     "output_type": "execute_result"
    }
   ],
   "source": [
    "features_filtered[\"Signal\"] = y\n",
    "features_filtered"
   ]
  },
  {
   "cell_type": "code",
   "execution_count": 371,
   "id": "operational-regulation",
   "metadata": {},
   "outputs": [
    {
     "data": {
      "text/html": [
       "<div>\n",
       "<style scoped>\n",
       "    .dataframe tbody tr th:only-of-type {\n",
       "        vertical-align: middle;\n",
       "    }\n",
       "\n",
       "    .dataframe tbody tr th {\n",
       "        vertical-align: top;\n",
       "    }\n",
       "\n",
       "    .dataframe thead th {\n",
       "        text-align: right;\n",
       "    }\n",
       "</style>\n",
       "<table border=\"1\" class=\"dataframe\">\n",
       "  <thead>\n",
       "    <tr style=\"text-align: right;\">\n",
       "      <th></th>\n",
       "      <th>Close__fft_coefficient__attr_\"abs\"__coeff_8</th>\n",
       "      <th>Open__fft_coefficient__attr_\"abs\"__coeff_8</th>\n",
       "      <th>Close__change_quantiles__f_agg_\"mean\"__isabs_False__qh_1.0__ql_0.2</th>\n",
       "      <th>Open__time_reversal_asymmetry_statistic__lag_2</th>\n",
       "      <th>Low__fft_coefficient__attr_\"abs\"__coeff_8</th>\n",
       "      <th>Close__fft_coefficient__attr_\"abs\"__coeff_77</th>\n",
       "      <th>High__fft_coefficient__attr_\"abs\"__coeff_8</th>\n",
       "      <th>Open__agg_linear_trend__attr_\"stderr\"__chunk_len_10__f_agg_\"mean\"</th>\n",
       "      <th>Close__fft_coefficient__attr_\"abs\"__coeff_9</th>\n",
       "      <th>Close__agg_linear_trend__attr_\"stderr\"__chunk_len_10__f_agg_\"mean\"</th>\n",
       "      <th>...</th>\n",
       "      <th>pvr_1h</th>\n",
       "      <th>pvt_1h</th>\n",
       "      <th>atr_1h</th>\n",
       "      <th>massi_1h</th>\n",
       "      <th>natr_1h</th>\n",
       "      <th>pdist_1h</th>\n",
       "      <th>rvi_1h</th>\n",
       "      <th>true_range_1h</th>\n",
       "      <th>ui_1h</th>\n",
       "      <th>Signal</th>\n",
       "    </tr>\n",
       "  </thead>\n",
       "  <tbody>\n",
       "    <tr>\n",
       "      <th>1</th>\n",
       "      <td>0.025173</td>\n",
       "      <td>0.019282</td>\n",
       "      <td>0.000017</td>\n",
       "      <td>1.120082e-10</td>\n",
       "      <td>0.018433</td>\n",
       "      <td>0.015561</td>\n",
       "      <td>0.020456</td>\n",
       "      <td>0.000015</td>\n",
       "      <td>0.033452</td>\n",
       "      <td>0.000016</td>\n",
       "      <td>...</td>\n",
       "      <td>2.0</td>\n",
       "      <td>1.120777e+05</td>\n",
       "      <td>0.089935</td>\n",
       "      <td>23.888011</td>\n",
       "      <td>0.089935</td>\n",
       "      <td>0.500000</td>\n",
       "      <td>78.298970</td>\n",
       "      <td>0.071429</td>\n",
       "      <td>0.949848</td>\n",
       "      <td>0</td>\n",
       "    </tr>\n",
       "    <tr>\n",
       "      <th>2</th>\n",
       "      <td>0.027645</td>\n",
       "      <td>0.024743</td>\n",
       "      <td>-0.000128</td>\n",
       "      <td>-1.655072e-09</td>\n",
       "      <td>0.029262</td>\n",
       "      <td>0.063929</td>\n",
       "      <td>0.026581</td>\n",
       "      <td>0.000019</td>\n",
       "      <td>0.016536</td>\n",
       "      <td>0.000018</td>\n",
       "      <td>...</td>\n",
       "      <td>1.0</td>\n",
       "      <td>3.217259e+06</td>\n",
       "      <td>0.043994</td>\n",
       "      <td>27.941065</td>\n",
       "      <td>0.039851</td>\n",
       "      <td>0.195122</td>\n",
       "      <td>60.049549</td>\n",
       "      <td>-0.078431</td>\n",
       "      <td>1.198276</td>\n",
       "      <td>0</td>\n",
       "    </tr>\n",
       "    <tr>\n",
       "      <th>3</th>\n",
       "      <td>0.097952</td>\n",
       "      <td>0.097848</td>\n",
       "      <td>0.000003</td>\n",
       "      <td>1.489567e-07</td>\n",
       "      <td>0.099890</td>\n",
       "      <td>0.079549</td>\n",
       "      <td>0.105300</td>\n",
       "      <td>0.000061</td>\n",
       "      <td>0.050563</td>\n",
       "      <td>0.000078</td>\n",
       "      <td>...</td>\n",
       "      <td>3.0</td>\n",
       "      <td>-7.547686e+06</td>\n",
       "      <td>0.052630</td>\n",
       "      <td>27.839936</td>\n",
       "      <td>0.075122</td>\n",
       "      <td>1.461538</td>\n",
       "      <td>60.431281</td>\n",
       "      <td>1.500000</td>\n",
       "      <td>1.357485</td>\n",
       "      <td>0</td>\n",
       "    </tr>\n",
       "    <tr>\n",
       "      <th>4</th>\n",
       "      <td>0.079002</td>\n",
       "      <td>0.073262</td>\n",
       "      <td>-0.000059</td>\n",
       "      <td>1.805896e-07</td>\n",
       "      <td>0.068182</td>\n",
       "      <td>0.218195</td>\n",
       "      <td>0.081098</td>\n",
       "      <td>0.000067</td>\n",
       "      <td>0.054259</td>\n",
       "      <td>0.000071</td>\n",
       "      <td>...</td>\n",
       "      <td>3.0</td>\n",
       "      <td>1.498906e+07</td>\n",
       "      <td>0.056029</td>\n",
       "      <td>25.668623</td>\n",
       "      <td>0.083977</td>\n",
       "      <td>-0.157895</td>\n",
       "      <td>64.213403</td>\n",
       "      <td>0.666667</td>\n",
       "      <td>2.765895</td>\n",
       "      <td>0</td>\n",
       "    </tr>\n",
       "    <tr>\n",
       "      <th>5</th>\n",
       "      <td>0.011948</td>\n",
       "      <td>0.012573</td>\n",
       "      <td>0.000051</td>\n",
       "      <td>2.452577e-08</td>\n",
       "      <td>0.005004</td>\n",
       "      <td>0.038104</td>\n",
       "      <td>0.026740</td>\n",
       "      <td>0.000035</td>\n",
       "      <td>0.066697</td>\n",
       "      <td>0.000035</td>\n",
       "      <td>...</td>\n",
       "      <td>2.0</td>\n",
       "      <td>1.996005e+08</td>\n",
       "      <td>-0.043785</td>\n",
       "      <td>25.332876</td>\n",
       "      <td>-0.046282</td>\n",
       "      <td>-0.222222</td>\n",
       "      <td>48.106505</td>\n",
       "      <td>-0.500000</td>\n",
       "      <td>2.459982</td>\n",
       "      <td>0</td>\n",
       "    </tr>\n",
       "    <tr>\n",
       "      <th>...</th>\n",
       "      <td>...</td>\n",
       "      <td>...</td>\n",
       "      <td>...</td>\n",
       "      <td>...</td>\n",
       "      <td>...</td>\n",
       "      <td>...</td>\n",
       "      <td>...</td>\n",
       "      <td>...</td>\n",
       "      <td>...</td>\n",
       "      <td>...</td>\n",
       "      <td>...</td>\n",
       "      <td>...</td>\n",
       "      <td>...</td>\n",
       "      <td>...</td>\n",
       "      <td>...</td>\n",
       "      <td>...</td>\n",
       "      <td>...</td>\n",
       "      <td>...</td>\n",
       "      <td>...</td>\n",
       "      <td>...</td>\n",
       "      <td>...</td>\n",
       "    </tr>\n",
       "    <tr>\n",
       "      <th>567</th>\n",
       "      <td>0.054252</td>\n",
       "      <td>0.053628</td>\n",
       "      <td>0.000356</td>\n",
       "      <td>4.513117e-08</td>\n",
       "      <td>0.038030</td>\n",
       "      <td>0.099610</td>\n",
       "      <td>0.062078</td>\n",
       "      <td>0.000053</td>\n",
       "      <td>0.024424</td>\n",
       "      <td>0.000051</td>\n",
       "      <td>...</td>\n",
       "      <td>1.0</td>\n",
       "      <td>2.467890e+09</td>\n",
       "      <td>0.032179</td>\n",
       "      <td>25.313792</td>\n",
       "      <td>0.016911</td>\n",
       "      <td>1.290780</td>\n",
       "      <td>60.995930</td>\n",
       "      <td>2.080000</td>\n",
       "      <td>1.308526</td>\n",
       "      <td>1</td>\n",
       "    </tr>\n",
       "    <tr>\n",
       "      <th>568</th>\n",
       "      <td>0.063140</td>\n",
       "      <td>0.063244</td>\n",
       "      <td>0.000369</td>\n",
       "      <td>4.557885e-09</td>\n",
       "      <td>0.062615</td>\n",
       "      <td>0.051681</td>\n",
       "      <td>0.069387</td>\n",
       "      <td>0.000030</td>\n",
       "      <td>0.030721</td>\n",
       "      <td>0.000037</td>\n",
       "      <td>...</td>\n",
       "      <td>1.0</td>\n",
       "      <td>3.133532e+08</td>\n",
       "      <td>0.097127</td>\n",
       "      <td>27.898363</td>\n",
       "      <td>0.043694</td>\n",
       "      <td>3.447853</td>\n",
       "      <td>46.628815</td>\n",
       "      <td>4.146552</td>\n",
       "      <td>2.307550</td>\n",
       "      <td>0</td>\n",
       "    </tr>\n",
       "    <tr>\n",
       "      <th>569</th>\n",
       "      <td>0.069970</td>\n",
       "      <td>0.085123</td>\n",
       "      <td>0.000478</td>\n",
       "      <td>8.217633e-09</td>\n",
       "      <td>0.052260</td>\n",
       "      <td>0.129587</td>\n",
       "      <td>0.093118</td>\n",
       "      <td>0.000104</td>\n",
       "      <td>0.130834</td>\n",
       "      <td>0.000093</td>\n",
       "      <td>...</td>\n",
       "      <td>1.0</td>\n",
       "      <td>8.767011e+08</td>\n",
       "      <td>0.110751</td>\n",
       "      <td>25.682154</td>\n",
       "      <td>0.041315</td>\n",
       "      <td>1.775000</td>\n",
       "      <td>44.519228</td>\n",
       "      <td>2.798817</td>\n",
       "      <td>7.456411</td>\n",
       "      <td>0</td>\n",
       "    </tr>\n",
       "    <tr>\n",
       "      <th>570</th>\n",
       "      <td>0.034097</td>\n",
       "      <td>0.075156</td>\n",
       "      <td>0.000434</td>\n",
       "      <td>-3.480053e-08</td>\n",
       "      <td>0.063712</td>\n",
       "      <td>0.081296</td>\n",
       "      <td>0.039088</td>\n",
       "      <td>0.000063</td>\n",
       "      <td>0.063256</td>\n",
       "      <td>0.000059</td>\n",
       "      <td>...</td>\n",
       "      <td>2.0</td>\n",
       "      <td>6.175397e+08</td>\n",
       "      <td>0.012233</td>\n",
       "      <td>26.136251</td>\n",
       "      <td>0.006171</td>\n",
       "      <td>0.215139</td>\n",
       "      <td>68.513471</td>\n",
       "      <td>-0.236842</td>\n",
       "      <td>1.531669</td>\n",
       "      <td>1</td>\n",
       "    </tr>\n",
       "    <tr>\n",
       "      <th>571</th>\n",
       "      <td>0.047150</td>\n",
       "      <td>0.044387</td>\n",
       "      <td>-0.000238</td>\n",
       "      <td>1.448610e-07</td>\n",
       "      <td>0.042481</td>\n",
       "      <td>0.112624</td>\n",
       "      <td>0.051550</td>\n",
       "      <td>0.000042</td>\n",
       "      <td>0.042488</td>\n",
       "      <td>0.000069</td>\n",
       "      <td>...</td>\n",
       "      <td>NaN</td>\n",
       "      <td>NaN</td>\n",
       "      <td>NaN</td>\n",
       "      <td>NaN</td>\n",
       "      <td>NaN</td>\n",
       "      <td>NaN</td>\n",
       "      <td>NaN</td>\n",
       "      <td>NaN</td>\n",
       "      <td>NaN</td>\n",
       "      <td>0</td>\n",
       "    </tr>\n",
       "  </tbody>\n",
       "</table>\n",
       "<p>571 rows × 930 columns</p>\n",
       "</div>"
      ],
      "text/plain": [
       "     Close__fft_coefficient__attr_\"abs\"__coeff_8  \\\n",
       "1                                       0.025173   \n",
       "2                                       0.027645   \n",
       "3                                       0.097952   \n",
       "4                                       0.079002   \n",
       "5                                       0.011948   \n",
       "..                                           ...   \n",
       "567                                     0.054252   \n",
       "568                                     0.063140   \n",
       "569                                     0.069970   \n",
       "570                                     0.034097   \n",
       "571                                     0.047150   \n",
       "\n",
       "     Open__fft_coefficient__attr_\"abs\"__coeff_8  \\\n",
       "1                                      0.019282   \n",
       "2                                      0.024743   \n",
       "3                                      0.097848   \n",
       "4                                      0.073262   \n",
       "5                                      0.012573   \n",
       "..                                          ...   \n",
       "567                                    0.053628   \n",
       "568                                    0.063244   \n",
       "569                                    0.085123   \n",
       "570                                    0.075156   \n",
       "571                                    0.044387   \n",
       "\n",
       "     Close__change_quantiles__f_agg_\"mean\"__isabs_False__qh_1.0__ql_0.2  \\\n",
       "1                                             0.000017                    \n",
       "2                                            -0.000128                    \n",
       "3                                             0.000003                    \n",
       "4                                            -0.000059                    \n",
       "5                                             0.000051                    \n",
       "..                                                 ...                    \n",
       "567                                           0.000356                    \n",
       "568                                           0.000369                    \n",
       "569                                           0.000478                    \n",
       "570                                           0.000434                    \n",
       "571                                          -0.000238                    \n",
       "\n",
       "     Open__time_reversal_asymmetry_statistic__lag_2  \\\n",
       "1                                      1.120082e-10   \n",
       "2                                     -1.655072e-09   \n",
       "3                                      1.489567e-07   \n",
       "4                                      1.805896e-07   \n",
       "5                                      2.452577e-08   \n",
       "..                                              ...   \n",
       "567                                    4.513117e-08   \n",
       "568                                    4.557885e-09   \n",
       "569                                    8.217633e-09   \n",
       "570                                   -3.480053e-08   \n",
       "571                                    1.448610e-07   \n",
       "\n",
       "     Low__fft_coefficient__attr_\"abs\"__coeff_8  \\\n",
       "1                                     0.018433   \n",
       "2                                     0.029262   \n",
       "3                                     0.099890   \n",
       "4                                     0.068182   \n",
       "5                                     0.005004   \n",
       "..                                         ...   \n",
       "567                                   0.038030   \n",
       "568                                   0.062615   \n",
       "569                                   0.052260   \n",
       "570                                   0.063712   \n",
       "571                                   0.042481   \n",
       "\n",
       "     Close__fft_coefficient__attr_\"abs\"__coeff_77  \\\n",
       "1                                        0.015561   \n",
       "2                                        0.063929   \n",
       "3                                        0.079549   \n",
       "4                                        0.218195   \n",
       "5                                        0.038104   \n",
       "..                                            ...   \n",
       "567                                      0.099610   \n",
       "568                                      0.051681   \n",
       "569                                      0.129587   \n",
       "570                                      0.081296   \n",
       "571                                      0.112624   \n",
       "\n",
       "     High__fft_coefficient__attr_\"abs\"__coeff_8  \\\n",
       "1                                      0.020456   \n",
       "2                                      0.026581   \n",
       "3                                      0.105300   \n",
       "4                                      0.081098   \n",
       "5                                      0.026740   \n",
       "..                                          ...   \n",
       "567                                    0.062078   \n",
       "568                                    0.069387   \n",
       "569                                    0.093118   \n",
       "570                                    0.039088   \n",
       "571                                    0.051550   \n",
       "\n",
       "     Open__agg_linear_trend__attr_\"stderr\"__chunk_len_10__f_agg_\"mean\"  \\\n",
       "1                                             0.000015                   \n",
       "2                                             0.000019                   \n",
       "3                                             0.000061                   \n",
       "4                                             0.000067                   \n",
       "5                                             0.000035                   \n",
       "..                                                 ...                   \n",
       "567                                           0.000053                   \n",
       "568                                           0.000030                   \n",
       "569                                           0.000104                   \n",
       "570                                           0.000063                   \n",
       "571                                           0.000042                   \n",
       "\n",
       "     Close__fft_coefficient__attr_\"abs\"__coeff_9  \\\n",
       "1                                       0.033452   \n",
       "2                                       0.016536   \n",
       "3                                       0.050563   \n",
       "4                                       0.054259   \n",
       "5                                       0.066697   \n",
       "..                                           ...   \n",
       "567                                     0.024424   \n",
       "568                                     0.030721   \n",
       "569                                     0.130834   \n",
       "570                                     0.063256   \n",
       "571                                     0.042488   \n",
       "\n",
       "     Close__agg_linear_trend__attr_\"stderr\"__chunk_len_10__f_agg_\"mean\"  ...  \\\n",
       "1                                             0.000016                   ...   \n",
       "2                                             0.000018                   ...   \n",
       "3                                             0.000078                   ...   \n",
       "4                                             0.000071                   ...   \n",
       "5                                             0.000035                   ...   \n",
       "..                                                 ...                   ...   \n",
       "567                                           0.000051                   ...   \n",
       "568                                           0.000037                   ...   \n",
       "569                                           0.000093                   ...   \n",
       "570                                           0.000059                   ...   \n",
       "571                                           0.000069                   ...   \n",
       "\n",
       "     pvr_1h        pvt_1h    atr_1h   massi_1h   natr_1h  pdist_1h     rvi_1h  \\\n",
       "1       2.0  1.120777e+05  0.089935  23.888011  0.089935  0.500000  78.298970   \n",
       "2       1.0  3.217259e+06  0.043994  27.941065  0.039851  0.195122  60.049549   \n",
       "3       3.0 -7.547686e+06  0.052630  27.839936  0.075122  1.461538  60.431281   \n",
       "4       3.0  1.498906e+07  0.056029  25.668623  0.083977 -0.157895  64.213403   \n",
       "5       2.0  1.996005e+08 -0.043785  25.332876 -0.046282 -0.222222  48.106505   \n",
       "..      ...           ...       ...        ...       ...       ...        ...   \n",
       "567     1.0  2.467890e+09  0.032179  25.313792  0.016911  1.290780  60.995930   \n",
       "568     1.0  3.133532e+08  0.097127  27.898363  0.043694  3.447853  46.628815   \n",
       "569     1.0  8.767011e+08  0.110751  25.682154  0.041315  1.775000  44.519228   \n",
       "570     2.0  6.175397e+08  0.012233  26.136251  0.006171  0.215139  68.513471   \n",
       "571     NaN           NaN       NaN        NaN       NaN       NaN        NaN   \n",
       "\n",
       "     true_range_1h     ui_1h  Signal  \n",
       "1         0.071429  0.949848       0  \n",
       "2        -0.078431  1.198276       0  \n",
       "3         1.500000  1.357485       0  \n",
       "4         0.666667  2.765895       0  \n",
       "5        -0.500000  2.459982       0  \n",
       "..             ...       ...     ...  \n",
       "567       2.080000  1.308526       1  \n",
       "568       4.146552  2.307550       0  \n",
       "569       2.798817  7.456411       0  \n",
       "570      -0.236842  1.531669       1  \n",
       "571            NaN       NaN       0  \n",
       "\n",
       "[571 rows x 930 columns]"
      ]
     },
     "execution_count": 371,
     "metadata": {},
     "output_type": "execute_result"
    }
   ],
   "source": [
    "# fix null values\n",
    "features_filtered.replace([np.inf, -np.inf], np.nan, inplace=True)\n",
    "#extracted_features.fillna(0, inplace=True)\n",
    "features_filtered"
   ]
  },
  {
   "cell_type": "markdown",
   "id": "framed-virtue",
   "metadata": {},
   "source": [
    "See how imbalanced the data is"
   ]
  },
  {
   "cell_type": "code",
   "execution_count": 372,
   "id": "dressed-croatia",
   "metadata": {},
   "outputs": [
    {
     "data": {
      "text/plain": [
       "0.30998248686514884"
      ]
     },
     "execution_count": 372,
     "metadata": {},
     "output_type": "execute_result"
    }
   ],
   "source": [
    "sum(y)/len(y)"
   ]
  },
  {
   "cell_type": "markdown",
   "id": "presidential-claim",
   "metadata": {},
   "source": [
    "We see that the data is imbalanced by 28%, which is something we need to handle."
   ]
  },
  {
   "cell_type": "code",
   "execution_count": null,
   "id": "neutral-resident",
   "metadata": {},
   "outputs": [],
   "source": []
  },
  {
   "cell_type": "code",
   "execution_count": 373,
   "id": "smooth-deposit",
   "metadata": {},
   "outputs": [],
   "source": [
    "X = features_filtered.drop(\"Signal\", axis=1)\n",
    "y = features_filtered[\"Signal\"]"
   ]
  },
  {
   "cell_type": "code",
   "execution_count": 374,
   "id": "expressed-garage",
   "metadata": {},
   "outputs": [],
   "source": [
    "X_train, X_test, y_train, y_test = train_test_split(X, y, test_size=0.2, random_state=42, stratify=y)"
   ]
  },
  {
   "cell_type": "code",
   "execution_count": 375,
   "id": "applied-lancaster",
   "metadata": {},
   "outputs": [],
   "source": [
    "from sklearn.pipeline import Pipeline\n",
    "from sklearn.preprocessing import StandardScaler\n",
    "from sklearn.preprocessing import MinMaxScaler\n",
    "\n",
    "## Pipeline\n",
    "#num_pipeline = Pipeline([('imputer', SimpleImputer(strategy=\"median\")),\n",
    "#                        ('std_scaler', StandardScaler())])              # scale values\n",
    "\n",
    "num_pipeline = Pipeline([('imputer', SimpleImputer(strategy=\"median\"))])\n",
    "\n",
    "X_train_prepared = num_pipeline.fit_transform(X_train)\n",
    "X_train_prepared_df = pd.DataFrame(X_train_prepared, columns=X_train.columns)"
   ]
  },
  {
   "cell_type": "markdown",
   "id": "electrical-onion",
   "metadata": {},
   "source": [
    "Now let's verify that `stratify` worked."
   ]
  },
  {
   "cell_type": "code",
   "execution_count": 376,
   "id": "medical-belle",
   "metadata": {},
   "outputs": [
    {
     "data": {
      "text/plain": [
       "0.3092105263157895"
      ]
     },
     "execution_count": 376,
     "metadata": {},
     "output_type": "execute_result"
    }
   ],
   "source": [
    "sum(y_train)/len(y_train)"
   ]
  },
  {
   "cell_type": "code",
   "execution_count": 377,
   "id": "orange-array",
   "metadata": {},
   "outputs": [
    {
     "data": {
      "text/plain": [
       "0.3130434782608696"
      ]
     },
     "execution_count": 377,
     "metadata": {},
     "output_type": "execute_result"
    }
   ],
   "source": [
    "sum(y_test)/len(y_test)"
   ]
  },
  {
   "cell_type": "code",
   "execution_count": 241,
   "id": "mechanical-tissue",
   "metadata": {},
   "outputs": [],
   "source": [
    "def plot_roc_curve(fpr, tpr, label=None):\n",
    "    plt.plot(fpr, tpr, linewidth=2, label=label)\n",
    "    plt.plot([0,1], [0,1], 'k--')\n",
    "    plt.xlabel(\"False Positive Rate\")\n",
    "    plt.ylabel(\"True Positive Rate\")\n",
    "    plt.grid()"
   ]
  },
  {
   "cell_type": "markdown",
   "id": "democratic-louis",
   "metadata": {},
   "source": [
    "Looks like it worked!"
   ]
  },
  {
   "cell_type": "markdown",
   "id": "warming-people",
   "metadata": {},
   "source": [
    "### Random Forest"
   ]
  },
  {
   "cell_type": "code",
   "execution_count": 421,
   "id": "alpha-approval",
   "metadata": {},
   "outputs": [
    {
     "name": "stdout",
     "output_type": "stream",
     "text": [
      "0.7324561403508772\n"
     ]
    }
   ],
   "source": [
    "forest_clf = RandomForestClassifier(random_state=42)\n",
    "forest_clf.fit(X_train_prepared_df, y_train)\n",
    "y_probas_forest = cross_val_predict(forest_clf, X_train_prepared_df, y_train, cv=3, method=\"predict_proba\")\n",
    "\n",
    "## CV Scores\n",
    "forest_scores = cross_val_score(forest_clf, X_train_prepared_df, y_train, cv=3)\n",
    "print(forest_scores.mean())"
   ]
  },
  {
   "cell_type": "code",
   "execution_count": 422,
   "id": "ahead-appointment",
   "metadata": {},
   "outputs": [],
   "source": [
    "def plot_roc_curve(fpr, tpr, label=None):\n",
    "    plt.plot(fpr, tpr, linewidth=2, label=label)\n",
    "    plt.plot([0,1], [0,1], 'k--')\n",
    "    plt.xlabel(\"False Positive Rate\")\n",
    "    plt.ylabel(\"True Positive Rate\")\n",
    "    plt.grid()"
   ]
  },
  {
   "cell_type": "code",
   "execution_count": 423,
   "id": "constant-tampa",
   "metadata": {},
   "outputs": [
    {
     "data": {
      "image/png": "[encoded data removed]",
      "text/plain": [
       "<Figure size 432x288 with 1 Axes>"
      ]
     },
     "metadata": {
      "needs_background": "light"
     },
     "output_type": "display_data"
    }
   ],
   "source": [
    "y_scores_forest = y_probas_forest[:,1] # score = probability of positive class\n",
    "fpr_forest, tpr_forest, thresholds_forest = roc_curve(y_train, y_scores_forest)\n",
    "plot_roc_curve(fpr_forest, tpr_forest, \"Random Forest\")\n",
    "plt.legend(loc=\"lower right\")\n",
    "plt.show()"
   ]
  },
  {
   "cell_type": "code",
   "execution_count": 424,
   "id": "sacred-midwest",
   "metadata": {},
   "outputs": [
    {
     "data": {
      "text/plain": [
       "0.7404593042890916"
      ]
     },
     "execution_count": 424,
     "metadata": {},
     "output_type": "execute_result"
    }
   ],
   "source": [
    "roc_auc_score(y_train, y_scores_forest)"
   ]
  },
  {
   "cell_type": "code",
   "execution_count": null,
   "id": "portable-longer",
   "metadata": {},
   "outputs": [],
   "source": []
  },
  {
   "cell_type": "markdown",
   "id": "flush-literacy",
   "metadata": {},
   "source": [
    "### AdaBoost"
   ]
  },
  {
   "cell_type": "code",
   "execution_count": 425,
   "id": "heavy-saudi",
   "metadata": {},
   "outputs": [
    {
     "data": {
      "text/plain": [
       "0.7171052631578947"
      ]
     },
     "execution_count": 425,
     "metadata": {},
     "output_type": "execute_result"
    }
   ],
   "source": [
    "from sklearn.ensemble import AdaBoostClassifier\n",
    "\n",
    "ada_clf = AdaBoostClassifier(n_estimators=100, random_state=42)\n",
    "ada_scores = cross_val_score(ada_clf, X_train_prepared_df, y_train, cv=3)\n",
    "ada_scores.mean()"
   ]
  },
  {
   "cell_type": "code",
   "execution_count": 426,
   "id": "wireless-creature",
   "metadata": {},
   "outputs": [
    {
     "data": {
      "image/png": "[encoded data removed]",
      "text/plain": [
       "<Figure size 432x288 with 1 Axes>"
      ]
     },
     "metadata": {
      "needs_background": "light"
     },
     "output_type": "display_data"
    }
   ],
   "source": [
    "y_probas_ada = cross_val_predict(ada_clf, X_train_prepared_df, y_train, cv=3, method=\"predict_proba\")\n",
    "y_scores_ada = y_probas_ada[:,1] # score = probability of positive class\n",
    "fpr_ada, tpr_ada, thresholds_ada = roc_curve(y_train, y_scores_ada)\n",
    "plot_roc_curve(fpr_ada, tpr_ada, \"ADA Boost\")\n",
    "plt.legend(loc=\"lower right\")\n",
    "plt.show()"
   ]
  },
  {
   "cell_type": "code",
   "execution_count": 427,
   "id": "peripheral-blackberry",
   "metadata": {},
   "outputs": [
    {
     "data": {
      "text/plain": [
       "0.7095800968141392"
      ]
     },
     "execution_count": 427,
     "metadata": {},
     "output_type": "execute_result"
    }
   ],
   "source": [
    "roc_auc_score(y_train, y_scores_ada)"
   ]
  },
  {
   "cell_type": "code",
   "execution_count": 428,
   "id": "christian-telling",
   "metadata": {},
   "outputs": [
    {
     "data": {
      "text/plain": [
       "array([[263,  52],\n",
       "       [ 77,  64]])"
      ]
     },
     "execution_count": 428,
     "metadata": {},
     "output_type": "execute_result"
    }
   ],
   "source": [
    "from sklearn.metrics import confusion_matrix\n",
    "y_train_pred_ada = cross_val_predict(ada_clf, X_train_prepared_df, y_train, cv=3)\n",
    "confusion_matrix(y_train, y_train_pred_ada)"
   ]
  },
  {
   "cell_type": "code",
   "execution_count": 429,
   "id": "confused-alliance",
   "metadata": {},
   "outputs": [
    {
     "data": {
      "text/plain": [
       "0.49805447470817127"
      ]
     },
     "execution_count": 429,
     "metadata": {},
     "output_type": "execute_result"
    }
   ],
   "source": [
    "from sklearn.metrics import f1_score\n",
    "f1_score(y_train, y_train_pred_ada)"
   ]
  },
  {
   "cell_type": "code",
   "execution_count": 430,
   "id": "applied-insured",
   "metadata": {},
   "outputs": [
    {
     "data": {
      "text/plain": [
       "AdaBoostClassifier(n_estimators=100, random_state=42)"
      ]
     },
     "execution_count": 430,
     "metadata": {},
     "output_type": "execute_result"
    }
   ],
   "source": [
    "ada_clf.fit(X_train_prepared_df, y_train)"
   ]
  },
  {
   "cell_type": "code",
   "execution_count": 431,
   "id": "becoming-potential",
   "metadata": {},
   "outputs": [
    {
     "data": {
      "text/plain": [
       "[[0.02, 'High__fft_coefficient__attr_\"abs\"__coeff_65'],\n",
       " [0.02, 'Low__fft_coefficient__attr_\"abs\"__coeff_25'],\n",
       " [0.03, 'Volume__fft_coefficient__attr_\"imag\"__coeff_72'],\n",
       " [0.02, 'Low__fft_coefficient__attr_\"abs\"__coeff_3'],\n",
       " [0.02, 'High__partial_autocorrelation__lag_7'],\n",
       " [0.02, 'High__fft_coefficient__attr_\"abs\"__coeff_94'],\n",
       " [0.03, 'High__fft_coefficient__attr_\"real\"__coeff_61'],\n",
       " [0.02, 'Close__energy_ratio_by_chunks__num_segments_10__segment_focus_5'],\n",
       " [0.02, 'Low__fft_coefficient__attr_\"abs\"__coeff_61'],\n",
       " [0.02, 'Close__change_quantiles__f_agg_\"mean\"__isabs_True__qh_1.0__ql_0.8'],\n",
       " [0.02, 'Volume__fft_coefficient__attr_\"angle\"__coeff_43'],\n",
       " [0.02, 'High__fft_coefficient__attr_\"abs\"__coeff_36'],\n",
       " [0.03, 'Close__fft_coefficient__attr_\"abs\"__coeff_97'],\n",
       " [0.02, 'pdist_1h']]"
      ]
     },
     "execution_count": 431,
     "metadata": {},
     "output_type": "execute_result"
    }
   ],
   "source": [
    "def feature_importances(clf, thresh):\n",
    "    ## most important features\n",
    "    important_features = []\n",
    "    for i, x in enumerate(clf.feature_importances_):\n",
    "        if x >= thresh:\n",
    "            important_features.append([x, X_train.columns[i]])\n",
    "\n",
    "    return important_features\n",
    "\n",
    "important_features = feature_importances(ada_clf, 0.02)\n",
    "important_features"
   ]
  },
  {
   "cell_type": "code",
   "execution_count": null,
   "id": "false-piano",
   "metadata": {},
   "outputs": [],
   "source": []
  },
  {
   "cell_type": "code",
   "execution_count": null,
   "id": "auburn-synthetic",
   "metadata": {},
   "outputs": [],
   "source": []
  },
  {
   "cell_type": "markdown",
   "id": "still-bikini",
   "metadata": {},
   "source": [
    "### Gradient Boosting"
   ]
  },
  {
   "cell_type": "code",
   "execution_count": 432,
   "id": "cleared-protest",
   "metadata": {},
   "outputs": [
    {
     "name": "stdout",
     "output_type": "stream",
     "text": [
      "0.7324561403508772\n"
     ]
    }
   ],
   "source": [
    "from sklearn.ensemble import GradientBoostingClassifier\n",
    "\n",
    "gb_clf = GradientBoostingClassifier(n_estimators=100, learning_rate=1.0, max_depth=1, random_state=42)\n",
    "gb_clf.fit(X_train_prepared_df, y_train)\n",
    "\n",
    "y_probas_gb = cross_val_predict(gb_clf, X_train_prepared_df, y_train, cv=3, method=\"predict_proba\")\n",
    "\n",
    "## CV Scores\n",
    "gb_scores = cross_val_score(forest_clf, X_train_prepared_df, y_train, cv=3)\n",
    "print(gb_scores.mean())"
   ]
  },
  {
   "cell_type": "code",
   "execution_count": 433,
   "id": "acceptable-mason",
   "metadata": {},
   "outputs": [
    {
     "data": {
      "image/png": "[encoded data removed]",
      "text/plain": [
       "<Figure size 432x288 with 1 Axes>"
      ]
     },
     "metadata": {
      "needs_background": "light"
     },
     "output_type": "display_data"
    }
   ],
   "source": [
    "y_scores_gb = y_probas_gb[:,1] # score = probability of positive class\n",
    "fpr_gb, tpr_gb, thresholds_gb = roc_curve(y_train, y_scores_gb)\n",
    "plot_roc_curve(fpr_gb, tpr_gb, \"Gradient Boosting\")\n",
    "plt.legend(loc=\"lower right\")\n",
    "plt.show()"
   ]
  },
  {
   "cell_type": "code",
   "execution_count": 434,
   "id": "regional-reputation",
   "metadata": {},
   "outputs": [
    {
     "data": {
      "text/plain": [
       "0.7070133963750985"
      ]
     },
     "execution_count": 434,
     "metadata": {},
     "output_type": "execute_result"
    }
   ],
   "source": [
    "roc_auc_score(y_train, y_scores_gb)"
   ]
  },
  {
   "cell_type": "code",
   "execution_count": 435,
   "id": "joined-outdoors",
   "metadata": {},
   "outputs": [
    {
     "data": {
      "text/plain": [
       "array([[244,  71],\n",
       "       [ 74,  67]])"
      ]
     },
     "execution_count": 435,
     "metadata": {},
     "output_type": "execute_result"
    }
   ],
   "source": [
    "y_train_pred_gb = cross_val_predict(gb_clf, X_train_prepared_df, y_train, cv=3)\n",
    "confusion_matrix(y_train, y_train_pred_gb)"
   ]
  },
  {
   "cell_type": "code",
   "execution_count": 436,
   "id": "weighted-coordinator",
   "metadata": {},
   "outputs": [
    {
     "data": {
      "text/plain": [
       "0.48028673835125446"
      ]
     },
     "execution_count": 436,
     "metadata": {},
     "output_type": "execute_result"
    }
   ],
   "source": [
    "f1_score(y_train, y_train_pred_gb)"
   ]
  },
  {
   "cell_type": "code",
   "execution_count": 189,
   "id": "native-stanley",
   "metadata": {},
   "outputs": [
    {
     "data": {
      "text/plain": [
       "[[0.020189733420009185, 'hwma'],\n",
       " [0.020465063968912723, 'vosc'],\n",
       " [0.022042791113402634, 'High__fft_coefficient__attr_\"abs\"__coeff_94'],\n",
       " [0.02270733565321102, 'kurtosis_1h'],\n",
       " [0.022923462951919247, 'zscore_1h'],\n",
       " [0.026673483917797534, 'High__fft_coefficient__attr_\"abs\"__coeff_93'],\n",
       " [0.028616654017697484, 'vwap_1h'],\n",
       " [0.03227926751408077, 'cmf_1h'],\n",
       " [0.03665650885868991, 'Volume__linear_trend__attr_\"pvalue\"'],\n",
       " [0.03914931532229604, 'Volume__fft_coefficient__attr_\"real\"__coeff_85'],\n",
       " [0.042231352911077095, 'Open__fft_coefficient__attr_\"imag\"__coeff_8'],\n",
       " [0.04304812416563448, 'High__autocorrelation__lag_7'],\n",
       " [0.05769028793345457, 'High__fft_coefficient__attr_\"abs\"__coeff_78'],\n",
       " [0.08329600326063702, 'vosc_1h'],\n",
       " [0.1712914594357552, 'alma_1h']]"
      ]
     },
     "execution_count": 189,
     "metadata": {},
     "output_type": "execute_result"
    }
   ],
   "source": [
    "important_features = feature_importances(gb_clf, 0.02)\n",
    "sorted(important_features)"
   ]
  },
  {
   "cell_type": "code",
   "execution_count": null,
   "id": "found-burlington",
   "metadata": {},
   "outputs": [],
   "source": [
    "#gb_clf.predict(X_test)"
   ]
  },
  {
   "cell_type": "code",
   "execution_count": null,
   "id": "express-search",
   "metadata": {},
   "outputs": [],
   "source": []
  },
  {
   "cell_type": "code",
   "execution_count": null,
   "id": "macro-precipitation",
   "metadata": {},
   "outputs": [],
   "source": []
  },
  {
   "cell_type": "markdown",
   "id": "grave-crossing",
   "metadata": {},
   "source": [
    "### XGBoost"
   ]
  },
  {
   "cell_type": "code",
   "execution_count": 378,
   "id": "warming-length",
   "metadata": {},
   "outputs": [
    {
     "name": "stdout",
     "output_type": "stream",
     "text": [
      "[0]\tvalidation_0-aucpr:0.59861\n",
      "[1]\tvalidation_0-aucpr:0.63496\n",
      "[2]\tvalidation_0-aucpr:0.66731\n",
      "[3]\tvalidation_0-aucpr:0.69666\n",
      "[4]\tvalidation_0-aucpr:0.69272\n",
      "[5]\tvalidation_0-aucpr:0.70136\n",
      "[6]\tvalidation_0-aucpr:0.72047\n",
      "[7]\tvalidation_0-aucpr:0.72349\n",
      "[8]\tvalidation_0-aucpr:0.73388\n",
      "[9]\tvalidation_0-aucpr:0.72199\n",
      "[10]\tvalidation_0-aucpr:0.72278\n",
      "[11]\tvalidation_0-aucpr:0.72077\n",
      "[12]\tvalidation_0-aucpr:0.72497\n",
      "[13]\tvalidation_0-aucpr:0.72973\n",
      "[14]\tvalidation_0-aucpr:0.74037\n",
      "[15]\tvalidation_0-aucpr:0.73844\n",
      "[16]\tvalidation_0-aucpr:0.74720\n",
      "[17]\tvalidation_0-aucpr:0.74748\n",
      "[18]\tvalidation_0-aucpr:0.74229\n",
      "[19]\tvalidation_0-aucpr:0.74628\n",
      "[20]\tvalidation_0-aucpr:0.74646\n",
      "[21]\tvalidation_0-aucpr:0.75406\n",
      "[22]\tvalidation_0-aucpr:0.74491\n",
      "[23]\tvalidation_0-aucpr:0.74264\n",
      "[24]\tvalidation_0-aucpr:0.73192\n",
      "[25]\tvalidation_0-aucpr:0.73020\n",
      "[26]\tvalidation_0-aucpr:0.73474\n",
      "[27]\tvalidation_0-aucpr:0.73499\n",
      "[28]\tvalidation_0-aucpr:0.74140\n",
      "[29]\tvalidation_0-aucpr:0.74258\n",
      "[30]\tvalidation_0-aucpr:0.74129\n",
      "[31]\tvalidation_0-aucpr:0.73848\n",
      "[32]\tvalidation_0-aucpr:0.73020\n",
      "[33]\tvalidation_0-aucpr:0.73723\n",
      "[34]\tvalidation_0-aucpr:0.73743\n",
      "[35]\tvalidation_0-aucpr:0.73166\n",
      "[36]\tvalidation_0-aucpr:0.73466\n",
      "[37]\tvalidation_0-aucpr:0.74216\n",
      "[38]\tvalidation_0-aucpr:0.73693\n",
      "[39]\tvalidation_0-aucpr:0.74348\n",
      "[40]\tvalidation_0-aucpr:0.73738\n",
      "[41]\tvalidation_0-aucpr:0.74182\n",
      "[42]\tvalidation_0-aucpr:0.73732\n",
      "[43]\tvalidation_0-aucpr:0.73117\n",
      "[44]\tvalidation_0-aucpr:0.73242\n",
      "[45]\tvalidation_0-aucpr:0.73388\n",
      "[46]\tvalidation_0-aucpr:0.73297\n",
      "[47]\tvalidation_0-aucpr:0.73573\n",
      "[48]\tvalidation_0-aucpr:0.73359\n",
      "[49]\tvalidation_0-aucpr:0.73402\n",
      "[50]\tvalidation_0-aucpr:0.73174\n",
      "[51]\tvalidation_0-aucpr:0.73145\n"
     ]
    },
    {
     "data": {
      "text/plain": [
       "XGBClassifier(base_score=0.5, booster='gbtree', colsample_bylevel=1,\n",
       "              colsample_bynode=1, colsample_bytree=1, enable_categorical=False,\n",
       "              gamma=0, gpu_id=-1, importance_type=None,\n",
       "              interaction_constraints='', learning_rate=0.300000012,\n",
       "              max_delta_step=0, max_depth=6, min_child_weight=1, missing=nan,\n",
       "              monotone_constraints='()', n_estimators=100, n_jobs=12,\n",
       "              num_parallel_tree=1, predictor='auto', random_state=42,\n",
       "              reg_alpha=0, reg_lambda=1, scale_pos_weight=1, seed=42,\n",
       "              subsample=1, tree_method='exact', validate_parameters=1,\n",
       "              verbosity=None)"
      ]
     },
     "execution_count": 378,
     "metadata": {},
     "output_type": "execute_result"
    }
   ],
   "source": [
    "clf_xgb = XGBClassifier(objective=\"binary:logistic\", seed=42)\n",
    "clf_xgb.fit(X_train_prepared_df, y_train, \n",
    "            verbose=True, \n",
    "            early_stopping_rounds=30, \n",
    "            eval_metric='aucpr', \n",
    "            eval_set=[(X_test, y_test)])"
   ]
  },
  {
   "cell_type": "code",
   "execution_count": 379,
   "id": "billion-vitamin",
   "metadata": {},
   "outputs": [
    {
     "data": {
      "text/plain": [
       "<sklearn.metrics._plot.confusion_matrix.ConfusionMatrixDisplay at 0x17b0c74f0>"
      ]
     },
     "execution_count": 379,
     "metadata": {},
     "output_type": "execute_result"
    },
    {
     "data": {
      "image/png": "[encoded data removed]",
      "text/plain": [
       "<Figure size 432x288 with 2 Axes>"
      ]
     },
     "metadata": {
      "needs_background": "light"
     },
     "output_type": "display_data"
    }
   ],
   "source": [
    "# confusion matrix\n",
    "from sklearn.metrics import plot_confusion_matrix\n",
    "\n",
    "plot_confusion_matrix(clf_xgb, X_test, y_test)"
   ]
  },
  {
   "cell_type": "markdown",
   "id": "distinguished-poetry",
   "metadata": {},
   "source": [
    "#### Optimize Parameters using Cross Validation and GridSearch()\n",
    "Some of these hyperparams include `max_depth`, the maximum tree depth, `learning_rate`, the learning rate, `gamma`, the paramater that encourages pruning, and `reg_lambda`, the regularization parameter. \n",
    "\n",
    "**Note**: since we have many hyperparams to optimize, we will use `GridSearchCV()`. We specify a bunch of potential values for the hyperparams and `GridSearchCV()` tests all possible combinations of the hyperparameters for us."
   ]
  },
  {
   "cell_type": "code",
   "execution_count": 380,
   "id": "spread-overall",
   "metadata": {},
   "outputs": [],
   "source": [
    "from sklearn.model_selection import GridSearchCV\n",
    "\n",
    "## ROUND 1\n",
    "param_grid = {\n",
    "    'max_depth': [3,4,5],\n",
    "    'learning_rate': [0.1, 0.01, 0.05],\n",
    "    'gamma': [0, 0.25, 1.0],\n",
    "    'reg_lambda': [0, 1.0, 10.0],\n",
    "    'scale_pos_weight': [1, 3, 5]\n",
    "}\n",
    "\n",
    "grid_search_1 = GridSearchCV(estimator=XGBClassifier(objective='binary:logistic', seed=42, subsample=0.9, colsample_bytree=0.5),\n",
    "                             param_grid=param_grid, scoring='roc_auc', verbose=0, n_jobs=10, cv=3)"
   ]
  },
  {
   "cell_type": "code",
   "execution_count": 381,
   "id": "velvet-reputation",
   "metadata": {},
   "outputs": [
    {
     "name": "stdout",
     "output_type": "stream",
     "text": [
      "{'gamma': 0.25, 'learning_rate': 0.1, 'max_depth': 4, 'reg_lambda': 1.0, 'scale_pos_weight': 3}\n"
     ]
    }
   ],
   "source": [
    "grid_search_1.fit(X_train, y_train, early_stopping_rounds=10, eval_metric='auc', eval_set=[(X_test, y_test)], verbose=False)\n",
    "print(grid_search_1.best_params_)"
   ]
  },
  {
   "cell_type": "markdown",
   "id": "nervous-surgeon",
   "metadata": {},
   "source": [
    "Since `gamma`, `learning_rate` and `reg_lambda` were at the end of their ranges, we will increase the range to explore further."
   ]
  },
  {
   "cell_type": "code",
   "execution_count": 382,
   "id": "dramatic-midnight",
   "metadata": {},
   "outputs": [
    {
     "name": "stdout",
     "output_type": "stream",
     "text": [
      "{'gamma': 0.25, 'learning_rate': 0.1, 'max_depth': 4, 'reg_lambda': 1.0, 'scale_pos_weight': 3}\n"
     ]
    }
   ],
   "source": [
    "## ROUND 2\n",
    "param_grid = {\n",
    "    'max_depth': [4],\n",
    "    'learning_rate': [0.1, 0.5, 1],\n",
    "    'gamma': [0.25],\n",
    "    'reg_lambda': [1.0],\n",
    "    'scale_pos_weight': [3]\n",
    "}\n",
    "\n",
    "grid_search_2 = GridSearchCV(estimator=XGBClassifier(objective='binary:logistic', seed=42, subsample=0.9, colsample_bytree=0.5),\n",
    "                             param_grid=param_grid, scoring='roc_auc', verbose=0, n_jobs=10, cv=3)\n",
    "grid_search_2.fit(X_train, y_train, early_stopping_rounds=10, eval_metric='auc', eval_set=[(X_test, y_test)], verbose=False)\n",
    "print(grid_search_2.best_params_)"
   ]
  },
  {
   "cell_type": "code",
   "execution_count": null,
   "id": "engaging-saskatchewan",
   "metadata": {},
   "outputs": [],
   "source": [
    "## ROUND 3\n",
    "param_grid = {\n",
    "    'max_depth': [3],\n",
    "    'learning_rate': [0.01, 0.05, 0.1],\n",
    "    'gamma': [0],\n",
    "    'reg_lambda': [10.0],\n",
    "    'scale_pos_weight': [7, 8, 9]\n",
    "}\n",
    "\n",
    "grid_search_3 = GridSearchCV(estimator=XGBClassifier(objective='binary:logistic', seed=42, subsample=0.9, colsample_bytree=0.5),\n",
    "                             param_grid=param_grid, scoring='roc_auc', verbose=0, n_jobs=10, cv=3)\n",
    "grid_search_3.fit(X_train, y_train, early_stopping_rounds=10, eval_metric='auc', eval_set=[(X_test, y_test)], verbose=False)\n",
    "print(grid_search_3.best_params_)"
   ]
  },
  {
   "cell_type": "code",
   "execution_count": null,
   "id": "reliable-tablet",
   "metadata": {},
   "outputs": [],
   "source": []
  },
  {
   "cell_type": "markdown",
   "id": "anonymous-square",
   "metadata": {},
   "source": [
    "#### Optimized XGBoost Model"
   ]
  },
  {
   "cell_type": "code",
   "execution_count": 441,
   "id": "educational-quality",
   "metadata": {},
   "outputs": [
    {
     "name": "stdout",
     "output_type": "stream",
     "text": [
      "[0]\tvalidation_0-auc:0.70570\n",
      "[1]\tvalidation_0-auc:0.76143\n",
      "[2]\tvalidation_0-auc:0.76477\n",
      "[3]\tvalidation_0-auc:0.77848\n",
      "[4]\tvalidation_0-auc:0.77866\n",
      "[5]\tvalidation_0-auc:0.78639\n",
      "[6]\tvalidation_0-auc:0.78692\n",
      "[7]\tvalidation_0-auc:0.78797\n",
      "[8]\tvalidation_0-auc:0.79852\n",
      "[9]\tvalidation_0-auc:0.81610\n",
      "[10]\tvalidation_0-auc:0.83228\n",
      "[11]\tvalidation_0-auc:0.83298\n",
      "[12]\tvalidation_0-auc:0.83052\n",
      "[13]\tvalidation_0-auc:0.83052\n",
      "[14]\tvalidation_0-auc:0.82419\n",
      "[15]\tvalidation_0-auc:0.81716\n",
      "[16]\tvalidation_0-auc:0.81786\n",
      "[17]\tvalidation_0-auc:0.81364\n",
      "[18]\tvalidation_0-auc:0.83052\n",
      "[19]\tvalidation_0-auc:0.83193\n",
      "[20]\tvalidation_0-auc:0.84072\n",
      "[21]\tvalidation_0-auc:0.83579\n",
      "[22]\tvalidation_0-auc:0.83087\n",
      "[23]\tvalidation_0-auc:0.82595\n",
      "[24]\tvalidation_0-auc:0.82700\n",
      "[25]\tvalidation_0-auc:0.82736\n",
      "[26]\tvalidation_0-auc:0.82208\n",
      "[27]\tvalidation_0-auc:0.82876\n",
      "[28]\tvalidation_0-auc:0.83263\n",
      "[29]\tvalidation_0-auc:0.83017\n",
      "[30]\tvalidation_0-auc:0.83509\n",
      "[31]\tvalidation_0-auc:0.82911\n",
      "[32]\tvalidation_0-auc:0.83087\n",
      "[33]\tvalidation_0-auc:0.82560\n",
      "[34]\tvalidation_0-auc:0.82982\n",
      "[35]\tvalidation_0-auc:0.82278\n",
      "[36]\tvalidation_0-auc:0.82314\n",
      "[37]\tvalidation_0-auc:0.82419\n",
      "[38]\tvalidation_0-auc:0.82349\n",
      "[39]\tvalidation_0-auc:0.82665\n",
      "[40]\tvalidation_0-auc:0.82560\n",
      "[41]\tvalidation_0-auc:0.82525\n",
      "[42]\tvalidation_0-auc:0.81997\n",
      "[43]\tvalidation_0-auc:0.81856\n",
      "[44]\tvalidation_0-auc:0.82103\n",
      "[45]\tvalidation_0-auc:0.81962\n",
      "[46]\tvalidation_0-auc:0.82068\n",
      "[47]\tvalidation_0-auc:0.82278\n",
      "[48]\tvalidation_0-auc:0.82208\n",
      "[49]\tvalidation_0-auc:0.82595\n"
     ]
    },
    {
     "data": {
      "text/plain": [
       "XGBClassifier(base_score=0.5, booster='gbtree', colsample_bylevel=1,\n",
       "              colsample_bynode=1, colsample_bytree=0.5,\n",
       "              enable_categorical=False, gamma=0.25, gpu_id=-1,\n",
       "              importance_type=None, interaction_constraints='',\n",
       "              learning_rate=0.1, max_delta_step=0, max_depth=4,\n",
       "              min_child_weight=1, missing=nan, monotone_constraints='()',\n",
       "              n_estimators=100, n_jobs=12, num_parallel_tree=1,\n",
       "              predictor='auto', random_state=42, reg_alpha=0, reg_lambda=1.0,\n",
       "              scale_pos_weight=3, seed=42, subsample=0.9, tree_method='exact',\n",
       "              validate_parameters=1, verbosity=None)"
      ]
     },
     "execution_count": 441,
     "metadata": {},
     "output_type": "execute_result"
    }
   ],
   "source": [
    "clf_xgb = XGBClassifier(objective=\"binary:logistic\", seed=42,\n",
    "                       gamma = 0.25,\n",
    "                       learning_rate = 0.1,\n",
    "                       max_depth = 4,\n",
    "                       reg_lambda = 1.0,\n",
    "                       scale_pos_weight = 3,\n",
    "                       subsample = 0.9,\n",
    "                       colsample_bytree = 0.5)\n",
    "clf_xgb.fit(X_train_prepared_df, y_train, \n",
    "            verbose=True, \n",
    "            early_stopping_rounds=30, \n",
    "            eval_metric='auc', \n",
    "            eval_set=[(X_test, y_test)])"
   ]
  },
  {
   "cell_type": "code",
   "execution_count": 442,
   "id": "editorial-penny",
   "metadata": {},
   "outputs": [
    {
     "data": {
      "text/plain": [
       "<sklearn.metrics._plot.confusion_matrix.ConfusionMatrixDisplay at 0x180b84310>"
      ]
     },
     "execution_count": 442,
     "metadata": {},
     "output_type": "execute_result"
    },
    {
     "data": {
      "image/png": "[encoded data removed]",
      "text/plain": [
       "<Figure size 432x288 with 2 Axes>"
      ]
     },
     "metadata": {
      "needs_background": "light"
     },
     "output_type": "display_data"
    }
   ],
   "source": [
    "from sklearn.metrics import plot_confusion_matrix\n",
    "\n",
    "plot_confusion_matrix(clf_xgb, X_test, y_test)"
   ]
  },
  {
   "cell_type": "code",
   "execution_count": 443,
   "id": "steady-cholesterol",
   "metadata": {},
   "outputs": [
    {
     "name": "stdout",
     "output_type": "stream",
     "text": [
      "Accuracy: 75.65%\n"
     ]
    }
   ],
   "source": [
    "# make predictions for test data\n",
    "y_pred = clf_xgb.predict(X_test)\n",
    "predictions = [round(value) for value in y_pred]\n",
    "\n",
    "# evaluate predictions\n",
    "accuracy = accuracy_score(y_test, predictions)\n",
    "print(\"Accuracy: %.2f%%\" % (accuracy * 100.0))"
   ]
  },
  {
   "cell_type": "code",
   "execution_count": null,
   "id": "joined-coordination",
   "metadata": {},
   "outputs": [],
   "source": []
  },
  {
   "cell_type": "code",
   "execution_count": 402,
   "id": "false-passing",
   "metadata": {},
   "outputs": [
    {
     "data": {
      "text/plain": [
       "['xgboost_model_6_more_symbols_no_imputation.pkl']"
      ]
     },
     "execution_count": 402,
     "metadata": {},
     "output_type": "execute_result"
    }
   ],
   "source": [
    "import joblib\n",
    "\n",
    "joblib.dump(clf_xgb, 'xgboost_model_6_more_symbols_no_imputation.pkl') # to save the model\n",
    "#forest_loaded = joblib.load(\"forest_reg.pkl\") # to load the model"
   ]
  },
  {
   "cell_type": "markdown",
   "id": "distinct-google",
   "metadata": {},
   "source": [
    "#### Visualise the tree"
   ]
  },
  {
   "cell_type": "code",
   "execution_count": null,
   "id": "cellular-spirituality",
   "metadata": {},
   "outputs": [],
   "source": [
    "bst = clf_xgb.get_booster()\n",
    "for importance_type in ('weight', 'gain', 'cover', 'total_gain', 'total_cover'):\n",
    "    print('%s: ' % importance_type, bst.get_score(importance_type = importance_type))\n",
    "    \n",
    "node_params = {'shape': 'box',\n",
    "               'style': 'filled, rounded',\n",
    "               'fillcolor': '#78cbe'}\n",
    "leaf_params = {'shape': 'box',\n",
    "               'style': 'filled',\n",
    "               'fillcolor': '#e48038'}\n",
    "\n",
    "graph_data = xgb.to_graphviz(clf_xgb, num_trees=0, size=\"10,10\",\n",
    "               condition_node_params=node_params,\n",
    "               lead_node_params=leaf_params)\n",
    "\n",
    "graph_data.view(filename='xgboost_tree')"
   ]
  },
  {
   "cell_type": "code",
   "execution_count": null,
   "id": "addressed-action",
   "metadata": {},
   "outputs": [],
   "source": [
    "from xgboost import plot_tree\n",
    "import matplotlib.pyplot as plt\n",
    "import graphviz\n",
    "\n",
    "plot_tree(clf_xgb)\n",
    "plt.show()"
   ]
  },
  {
   "cell_type": "code",
   "execution_count": 245,
   "id": "closing-document",
   "metadata": {},
   "outputs": [
    {
     "data": {
      "text/plain": [
       "[[0.026190637, 'High__fft_coefficient__attr_\"abs\"__coeff_8'],\n",
       " [0.024507083, 'Low__fft_coefficient__attr_\"abs\"__coeff_52']]"
      ]
     },
     "execution_count": 245,
     "metadata": {},
     "output_type": "execute_result"
    }
   ],
   "source": [
    "def feature_importances(clf, thresh):\n",
    "    ## most important features\n",
    "    important_features = []\n",
    "    for i, x in enumerate(clf.feature_importances_):\n",
    "        if x >= thresh:\n",
    "            important_features.append([x, X_train.columns[i]])\n",
    "\n",
    "    return important_features\n",
    "\n",
    "feature_importances(clf_xgb, 0.02)"
   ]
  },
  {
   "cell_type": "code",
   "execution_count": 415,
   "id": "alone-turtle",
   "metadata": {},
   "outputs": [
    {
     "data": {
      "text/html": [
       "<div>\n",
       "<style scoped>\n",
       "    .dataframe tbody tr th:only-of-type {\n",
       "        vertical-align: middle;\n",
       "    }\n",
       "\n",
       "    .dataframe tbody tr th {\n",
       "        vertical-align: top;\n",
       "    }\n",
       "\n",
       "    .dataframe thead th {\n",
       "        text-align: right;\n",
       "    }\n",
       "</style>\n",
       "<table border=\"1\" class=\"dataframe\">\n",
       "  <thead>\n",
       "    <tr style=\"text-align: right;\">\n",
       "      <th></th>\n",
       "      <th>Variable</th>\n",
       "      <th>Importance</th>\n",
       "    </tr>\n",
       "  </thead>\n",
       "  <tbody>\n",
       "    <tr>\n",
       "      <th>848</th>\n",
       "      <td>hwma_1h</td>\n",
       "      <td>0.021831</td>\n",
       "    </tr>\n",
       "    <tr>\n",
       "      <th>373</th>\n",
       "      <td>Open__fft_coefficient__attr_\"abs\"__coeff_64</td>\n",
       "      <td>0.021143</td>\n",
       "    </tr>\n",
       "    <tr>\n",
       "      <th>683</th>\n",
       "      <td>Close__fft_coefficient__attr_\"imag\"__coeff_44</td>\n",
       "      <td>0.018210</td>\n",
       "    </tr>\n",
       "    <tr>\n",
       "      <th>188</th>\n",
       "      <td>Open__change_quantiles__f_agg_\"var\"__isabs_Tru...</td>\n",
       "      <td>0.015178</td>\n",
       "    </tr>\n",
       "    <tr>\n",
       "      <th>922</th>\n",
       "      <td>atr_1h</td>\n",
       "      <td>0.013851</td>\n",
       "    </tr>\n",
       "    <tr>\n",
       "      <th>130</th>\n",
       "      <td>Open__fft_coefficient__attr_\"abs\"__coeff_16</td>\n",
       "      <td>0.012714</td>\n",
       "    </tr>\n",
       "    <tr>\n",
       "      <th>276</th>\n",
       "      <td>Close__fft_coefficient__attr_\"abs\"__coeff_45</td>\n",
       "      <td>0.011892</td>\n",
       "    </tr>\n",
       "    <tr>\n",
       "      <th>17</th>\n",
       "      <td>High__fft_coefficient__attr_\"abs\"__coeff_65</td>\n",
       "      <td>0.010137</td>\n",
       "    </tr>\n",
       "    <tr>\n",
       "      <th>59</th>\n",
       "      <td>High__abs_energy</td>\n",
       "      <td>0.009953</td>\n",
       "    </tr>\n",
       "    <tr>\n",
       "      <th>643</th>\n",
       "      <td>Low__quantile__q_0.8</td>\n",
       "      <td>0.009645</td>\n",
       "    </tr>\n",
       "    <tr>\n",
       "      <th>182</th>\n",
       "      <td>Open__fft_coefficient__attr_\"abs\"__coeff_78</td>\n",
       "      <td>0.009397</td>\n",
       "    </tr>\n",
       "    <tr>\n",
       "      <th>138</th>\n",
       "      <td>Open__index_mass_quantile__q_0.7</td>\n",
       "      <td>0.009104</td>\n",
       "    </tr>\n",
       "    <tr>\n",
       "      <th>887</th>\n",
       "      <td>rsx_1h</td>\n",
       "      <td>0.008945</td>\n",
       "    </tr>\n",
       "    <tr>\n",
       "      <th>900</th>\n",
       "      <td>skew_1h</td>\n",
       "      <td>0.008855</td>\n",
       "    </tr>\n",
       "    <tr>\n",
       "      <th>203</th>\n",
       "      <td>Close__change_quantiles__f_agg_\"mean\"__isabs_F...</td>\n",
       "      <td>0.008556</td>\n",
       "    </tr>\n",
       "    <tr>\n",
       "      <th>312</th>\n",
       "      <td>High__partial_autocorrelation__lag_7</td>\n",
       "      <td>0.008479</td>\n",
       "    </tr>\n",
       "    <tr>\n",
       "      <th>338</th>\n",
       "      <td>Close__fft_coefficient__attr_\"imag\"__coeff_8</td>\n",
       "      <td>0.008209</td>\n",
       "    </tr>\n",
       "    <tr>\n",
       "      <th>253</th>\n",
       "      <td>High__fft_coefficient__attr_\"imag\"__coeff_8</td>\n",
       "      <td>0.008158</td>\n",
       "    </tr>\n",
       "    <tr>\n",
       "      <th>591</th>\n",
       "      <td>Close__fft_coefficient__attr_\"imag\"__coeff_90</td>\n",
       "      <td>0.008006</td>\n",
       "    </tr>\n",
       "    <tr>\n",
       "      <th>916</th>\n",
       "      <td>nvi_1h</td>\n",
       "      <td>0.007842</td>\n",
       "    </tr>\n",
       "    <tr>\n",
       "      <th>425</th>\n",
       "      <td>Low__fft_coefficient__attr_\"real\"__coeff_61</td>\n",
       "      <td>0.007577</td>\n",
       "    </tr>\n",
       "    <tr>\n",
       "      <th>252</th>\n",
       "      <td>High__index_mass_quantile__q_0.7</td>\n",
       "      <td>0.007515</td>\n",
       "    </tr>\n",
       "    <tr>\n",
       "      <th>399</th>\n",
       "      <td>Close__fft_coefficient__attr_\"abs\"__coeff_5</td>\n",
       "      <td>0.007353</td>\n",
       "    </tr>\n",
       "    <tr>\n",
       "      <th>494</th>\n",
       "      <td>Volume__fft_coefficient__attr_\"angle\"__coeff_72</td>\n",
       "      <td>0.007034</td>\n",
       "    </tr>\n",
       "    <tr>\n",
       "      <th>39</th>\n",
       "      <td>High__change_quantiles__f_agg_\"mean\"__isabs_Tr...</td>\n",
       "      <td>0.006983</td>\n",
       "    </tr>\n",
       "    <tr>\n",
       "      <th>841</th>\n",
       "      <td>alma_1h</td>\n",
       "      <td>0.006937</td>\n",
       "    </tr>\n",
       "    <tr>\n",
       "      <th>625</th>\n",
       "      <td>Close__fft_coefficient__attr_\"abs\"__coeff_81</td>\n",
       "      <td>0.006891</td>\n",
       "    </tr>\n",
       "    <tr>\n",
       "      <th>896</th>\n",
       "      <td>kurtosis_1h</td>\n",
       "      <td>0.006843</td>\n",
       "    </tr>\n",
       "    <tr>\n",
       "      <th>8</th>\n",
       "      <td>Close__fft_coefficient__attr_\"abs\"__coeff_9</td>\n",
       "      <td>0.006762</td>\n",
       "    </tr>\n",
       "    <tr>\n",
       "      <th>0</th>\n",
       "      <td>Close__fft_coefficient__attr_\"abs\"__coeff_8</td>\n",
       "      <td>0.006606</td>\n",
       "    </tr>\n",
       "  </tbody>\n",
       "</table>\n",
       "</div>"
      ],
      "text/plain": [
       "                                              Variable  Importance\n",
       "848                                            hwma_1h    0.021831\n",
       "373        Open__fft_coefficient__attr_\"abs\"__coeff_64    0.021143\n",
       "683      Close__fft_coefficient__attr_\"imag\"__coeff_44    0.018210\n",
       "188  Open__change_quantiles__f_agg_\"var\"__isabs_Tru...    0.015178\n",
       "922                                             atr_1h    0.013851\n",
       "130        Open__fft_coefficient__attr_\"abs\"__coeff_16    0.012714\n",
       "276       Close__fft_coefficient__attr_\"abs\"__coeff_45    0.011892\n",
       "17         High__fft_coefficient__attr_\"abs\"__coeff_65    0.010137\n",
       "59                                    High__abs_energy    0.009953\n",
       "643                               Low__quantile__q_0.8    0.009645\n",
       "182        Open__fft_coefficient__attr_\"abs\"__coeff_78    0.009397\n",
       "138                   Open__index_mass_quantile__q_0.7    0.009104\n",
       "887                                             rsx_1h    0.008945\n",
       "900                                            skew_1h    0.008855\n",
       "203  Close__change_quantiles__f_agg_\"mean\"__isabs_F...    0.008556\n",
       "312               High__partial_autocorrelation__lag_7    0.008479\n",
       "338       Close__fft_coefficient__attr_\"imag\"__coeff_8    0.008209\n",
       "253        High__fft_coefficient__attr_\"imag\"__coeff_8    0.008158\n",
       "591      Close__fft_coefficient__attr_\"imag\"__coeff_90    0.008006\n",
       "916                                             nvi_1h    0.007842\n",
       "425        Low__fft_coefficient__attr_\"real\"__coeff_61    0.007577\n",
       "252                   High__index_mass_quantile__q_0.7    0.007515\n",
       "399        Close__fft_coefficient__attr_\"abs\"__coeff_5    0.007353\n",
       "494    Volume__fft_coefficient__attr_\"angle\"__coeff_72    0.007034\n",
       "39   High__change_quantiles__f_agg_\"mean\"__isabs_Tr...    0.006983\n",
       "841                                            alma_1h    0.006937\n",
       "625       Close__fft_coefficient__attr_\"abs\"__coeff_81    0.006891\n",
       "896                                        kurtosis_1h    0.006843\n",
       "8          Close__fft_coefficient__attr_\"abs\"__coeff_9    0.006762\n",
       "0          Close__fft_coefficient__attr_\"abs\"__coeff_8    0.006606"
      ]
     },
     "execution_count": 415,
     "metadata": {},
     "output_type": "execute_result"
    }
   ],
   "source": [
    "df_var_imp = pd.DataFrame({\"Variable\": X_train.columns.values, \"Importance\": clf_xgb.feature_importances_}) \\\n",
    "                        .sort_values(by=\"Importance\", ascending=False)\n",
    "df_var_imp[:30]"
   ]
  },
  {
   "cell_type": "markdown",
   "id": "blond-costa",
   "metadata": {},
   "source": [
    "#### Learning Curve"
   ]
  },
  {
   "cell_type": "code",
   "execution_count": 403,
   "id": "radio-venice",
   "metadata": {},
   "outputs": [
    {
     "data": {
      "image/png": "[encoded data removed]",
      "text/plain": [
       "<Figure size 432x288 with 1 Axes>"
      ]
     },
     "metadata": {
      "needs_background": "light"
     },
     "output_type": "display_data"
    }
   ],
   "source": [
    "eval_results = clf_xgb.evals_result()\n",
    "train_auc_tree = eval_results['validation_0']['auc']\n",
    "plt.plot(train_auc_tree)\n",
    "plt.show()"
   ]
  },
  {
   "cell_type": "code",
   "execution_count": 404,
   "id": "established-richmond",
   "metadata": {},
   "outputs": [
    {
     "data": {
      "text/plain": [
       "0.8407172995780591"
      ]
     },
     "execution_count": 404,
     "metadata": {},
     "output_type": "execute_result"
    }
   ],
   "source": [
    "import sklearn.metrics as metrics\n",
    "\n",
    "probs = clf_xgb.predict_proba(X_test)\n",
    "preds = probs[:,1]\n",
    "fpr, tpr, threshold = metrics.roc_curve(y_test, preds)\n",
    "roc_auc = metrics.auc(fpr, tpr)\n",
    "roc_auc"
   ]
  },
  {
   "cell_type": "code",
   "execution_count": 405,
   "id": "hybrid-lightning",
   "metadata": {},
   "outputs": [
    {
     "data": {
      "image/png": "[encoded data removed]",
      "text/plain": [
       "<Figure size 432x288 with 1 Axes>"
      ]
     },
     "metadata": {
      "needs_background": "light"
     },
     "output_type": "display_data"
    }
   ],
   "source": [
    "plot_roc_curve(fpr, tpr)"
   ]
  },
  {
   "cell_type": "code",
   "execution_count": 250,
   "id": "saved-preliminary",
   "metadata": {},
   "outputs": [
    {
     "data": {
      "text/html": [
       "<div>\n",
       "<style scoped>\n",
       "    .dataframe tbody tr th:only-of-type {\n",
       "        vertical-align: middle;\n",
       "    }\n",
       "\n",
       "    .dataframe tbody tr th {\n",
       "        vertical-align: top;\n",
       "    }\n",
       "\n",
       "    .dataframe thead th {\n",
       "        text-align: right;\n",
       "    }\n",
       "</style>\n",
       "<table border=\"1\" class=\"dataframe\">\n",
       "  <thead>\n",
       "    <tr style=\"text-align: right;\">\n",
       "      <th></th>\n",
       "      <th>Variable</th>\n",
       "      <th>Importance</th>\n",
       "    </tr>\n",
       "  </thead>\n",
       "  <tbody>\n",
       "    <tr>\n",
       "      <th>878</th>\n",
       "      <td>kurtosis_1h</td>\n",
       "      <td>0.004715</td>\n",
       "    </tr>\n",
       "    <tr>\n",
       "      <th>74</th>\n",
       "      <td>Low__fft_aggregated__aggtype_\"kurtosis\"</td>\n",
       "      <td>0.000579</td>\n",
       "    </tr>\n",
       "    <tr>\n",
       "      <th>790</th>\n",
       "      <td>kurtosis</td>\n",
       "      <td>0.000000</td>\n",
       "    </tr>\n",
       "    <tr>\n",
       "      <th>234</th>\n",
       "      <td>Close__fft_aggregated__aggtype_\"kurtosis\"</td>\n",
       "      <td>0.000000</td>\n",
       "    </tr>\n",
       "    <tr>\n",
       "      <th>240</th>\n",
       "      <td>High__fft_aggregated__aggtype_\"kurtosis\"</td>\n",
       "      <td>0.000000</td>\n",
       "    </tr>\n",
       "    <tr>\n",
       "      <th>293</th>\n",
       "      <td>Open__fft_aggregated__aggtype_\"kurtosis\"</td>\n",
       "      <td>0.000000</td>\n",
       "    </tr>\n",
       "  </tbody>\n",
       "</table>\n",
       "</div>"
      ],
      "text/plain": [
       "                                      Variable  Importance\n",
       "878                                kurtosis_1h    0.004715\n",
       "74     Low__fft_aggregated__aggtype_\"kurtosis\"    0.000579\n",
       "790                                   kurtosis    0.000000\n",
       "234  Close__fft_aggregated__aggtype_\"kurtosis\"    0.000000\n",
       "240   High__fft_aggregated__aggtype_\"kurtosis\"    0.000000\n",
       "293   Open__fft_aggregated__aggtype_\"kurtosis\"    0.000000"
      ]
     },
     "execution_count": 250,
     "metadata": {},
     "output_type": "execute_result"
    }
   ],
   "source": [
    "df_var_imp.loc[df_var_imp['Variable'].str.contains(\"kurtosis\", case=False)]"
   ]
  },
  {
   "cell_type": "code",
   "execution_count": null,
   "id": "satellite-stuff",
   "metadata": {},
   "outputs": [],
   "source": []
  },
  {
   "cell_type": "markdown",
   "id": "martial-klein",
   "metadata": {},
   "source": [
    "#### Cross-Validation: Scikit-Learn"
   ]
  },
  {
   "cell_type": "code",
   "execution_count": 406,
   "id": "cultural-message",
   "metadata": {},
   "outputs": [
    {
     "name": "stdout",
     "output_type": "stream",
     "text": [
      "[12:11:13] WARNING: /Users/runner/work/xgboost/xgboost/src/learner.cc:1115: Starting in XGBoost 1.3.0, the default evaluation metric used with the objective 'binary:logistic' was changed from 'error' to 'logloss'. Explicitly set eval_metric if you'd like to restore the old behavior.\n",
      "[12:11:14] WARNING: /Users/runner/work/xgboost/xgboost/src/learner.cc:1115: Starting in XGBoost 1.3.0, the default evaluation metric used with the objective 'binary:logistic' was changed from 'error' to 'logloss'. Explicitly set eval_metric if you'd like to restore the old behavior.\n",
      "[12:11:14] WARNING: /Users/runner/work/xgboost/xgboost/src/learner.cc:1115: Starting in XGBoost 1.3.0, the default evaluation metric used with the objective 'binary:logistic' was changed from 'error' to 'logloss'. Explicitly set eval_metric if you'd like to restore the old behavior.\n"
     ]
    }
   ],
   "source": [
    "from sklearn.model_selection import StratifiedKFold\n",
    "from sklearn.model_selection import cross_val_score\n",
    "\n",
    "fold = StratifiedKFold(n_splits=3, shuffle=True, random_state=42)\n",
    "xgb_scores_auc = cross_val_score(clf_xgb, X, y, cv=fold, scoring=\"roc_auc\")"
   ]
  },
  {
   "cell_type": "code",
   "execution_count": 407,
   "id": "removed-smile",
   "metadata": {},
   "outputs": [
    {
     "name": "stdout",
     "output_type": "stream",
     "text": [
      "ROC AUC Mean Score: 79.39284160011292\n",
      "ROC AUC Standard Dev: 1.8636640932905024 %\n"
     ]
    }
   ],
   "source": [
    "print(\"ROC AUC Mean Score:\", xgb_scores_auc.mean()*100)\n",
    "print(\"ROC AUC Standard Dev:\", xgb_scores_auc.std()*100, \"%\")"
   ]
  },
  {
   "cell_type": "code",
   "execution_count": null,
   "id": "plastic-physics",
   "metadata": {},
   "outputs": [],
   "source": []
  },
  {
   "cell_type": "code",
   "execution_count": null,
   "id": "trying-aerospace",
   "metadata": {},
   "outputs": [],
   "source": []
  },
  {
   "cell_type": "code",
   "execution_count": null,
   "id": "acquired-milton",
   "metadata": {},
   "outputs": [],
   "source": []
  },
  {
   "cell_type": "code",
   "execution_count": null,
   "id": "proper-insured",
   "metadata": {},
   "outputs": [],
   "source": []
  },
  {
   "cell_type": "markdown",
   "id": "failing-cardiff",
   "metadata": {},
   "source": [
    "#### Cross-Validation: XGBoost"
   ]
  },
  {
   "cell_type": "code",
   "execution_count": 408,
   "id": "dutch-defendant",
   "metadata": {},
   "outputs": [],
   "source": [
    "from xgboost import cv\n",
    "\n",
    "data_dmatrix = xgb.DMatrix(data=X,label=y)"
   ]
  },
  {
   "cell_type": "code",
   "execution_count": 417,
   "id": "divine-consideration",
   "metadata": {},
   "outputs": [],
   "source": [
    "params = {\"objective\":\"binary:logistic\", 'colsample_bytree': 0.5,'learning_rate': 0.1,\n",
    "                'max_depth': 4, 'gamma': 0.25, 'reg_lambda': 1.0, 'scale_pos_weight': 3, \"subsample\": 0.9}\n",
    "\n",
    "xgb_cv = cv(dtrain=data_dmatrix, params=params, nfold=3,\n",
    "                    num_boost_round=200, early_stopping_rounds=30, metrics=\"auc\", as_pandas=True, seed=42)"
   ]
  },
  {
   "cell_type": "code",
   "execution_count": 418,
   "id": "laughing-comfort",
   "metadata": {},
   "outputs": [
    {
     "data": {
      "text/html": [
       "<div>\n",
       "<style scoped>\n",
       "    .dataframe tbody tr th:only-of-type {\n",
       "        vertical-align: middle;\n",
       "    }\n",
       "\n",
       "    .dataframe tbody tr th {\n",
       "        vertical-align: top;\n",
       "    }\n",
       "\n",
       "    .dataframe thead th {\n",
       "        text-align: right;\n",
       "    }\n",
       "</style>\n",
       "<table border=\"1\" class=\"dataframe\">\n",
       "  <thead>\n",
       "    <tr style=\"text-align: right;\">\n",
       "      <th></th>\n",
       "      <th>train-auc-mean</th>\n",
       "      <th>train-auc-std</th>\n",
       "      <th>test-auc-mean</th>\n",
       "      <th>test-auc-std</th>\n",
       "    </tr>\n",
       "  </thead>\n",
       "  <tbody>\n",
       "    <tr>\n",
       "      <th>195</th>\n",
       "      <td>1.0</td>\n",
       "      <td>0.0</td>\n",
       "      <td>0.769694</td>\n",
       "      <td>0.029476</td>\n",
       "    </tr>\n",
       "    <tr>\n",
       "      <th>196</th>\n",
       "      <td>1.0</td>\n",
       "      <td>0.0</td>\n",
       "      <td>0.769694</td>\n",
       "      <td>0.029476</td>\n",
       "    </tr>\n",
       "    <tr>\n",
       "      <th>197</th>\n",
       "      <td>1.0</td>\n",
       "      <td>0.0</td>\n",
       "      <td>0.769737</td>\n",
       "      <td>0.029533</td>\n",
       "    </tr>\n",
       "    <tr>\n",
       "      <th>198</th>\n",
       "      <td>1.0</td>\n",
       "      <td>0.0</td>\n",
       "      <td>0.769778</td>\n",
       "      <td>0.029488</td>\n",
       "    </tr>\n",
       "    <tr>\n",
       "      <th>199</th>\n",
       "      <td>1.0</td>\n",
       "      <td>0.0</td>\n",
       "      <td>0.769819</td>\n",
       "      <td>0.029443</td>\n",
       "    </tr>\n",
       "  </tbody>\n",
       "</table>\n",
       "</div>"
      ],
      "text/plain": [
       "     train-auc-mean  train-auc-std  test-auc-mean  test-auc-std\n",
       "195             1.0            0.0       0.769694      0.029476\n",
       "196             1.0            0.0       0.769694      0.029476\n",
       "197             1.0            0.0       0.769737      0.029533\n",
       "198             1.0            0.0       0.769778      0.029488\n",
       "199             1.0            0.0       0.769819      0.029443"
      ]
     },
     "execution_count": 418,
     "metadata": {},
     "output_type": "execute_result"
    }
   ],
   "source": [
    "xgb_cv.tail()"
   ]
  },
  {
   "cell_type": "code",
   "execution_count": 419,
   "id": "computational-packaging",
   "metadata": {},
   "outputs": [
    {
     "data": {
      "image/png": "[encoded data removed]",
      "text/plain": [
       "<Figure size 432x288 with 1 Axes>"
      ]
     },
     "metadata": {
      "needs_background": "light"
     },
     "output_type": "display_data"
    }
   ],
   "source": [
    "xgb_cv[[\"train-auc-mean\", \"test-auc-mean\"]].plot()\n",
    "plt.xlabel(\"Iteration\")\n",
    "plt.ylabel(\"AUC Score\")\n",
    "plt.show()"
   ]
  },
  {
   "cell_type": "code",
   "execution_count": null,
   "id": "burning-expert",
   "metadata": {},
   "outputs": [],
   "source": []
  },
  {
   "cell_type": "markdown",
   "id": "million-safety",
   "metadata": {},
   "source": [
    "#### Feature Importances"
   ]
  },
  {
   "cell_type": "code",
   "execution_count": 420,
   "id": "eight-genetics",
   "metadata": {},
   "outputs": [
    {
     "data": {
      "image/png": "[encoded data removed]",
      "text/plain": [
       "<Figure size 432x288 with 1 Axes>"
      ]
     },
     "metadata": {
      "needs_background": "light"
     },
     "output_type": "display_data"
    },
    {
     "data": {
      "text/plain": [
       "<Figure size 1152x864 with 0 Axes>"
      ]
     },
     "metadata": {},
     "output_type": "display_data"
    }
   ],
   "source": [
    "xgb.plot_importance(clf_xgb, max_num_features=20)\n",
    "plt.figure(figsize = (16, 12))\n",
    "plt.show()"
   ]
  },
  {
   "cell_type": "code",
   "execution_count": null,
   "id": "characteristic-triumph",
   "metadata": {},
   "outputs": [],
   "source": []
  },
  {
   "cell_type": "code",
   "execution_count": 413,
   "id": "accessible-diary",
   "metadata": {},
   "outputs": [
    {
     "name": "stdout",
     "output_type": "stream",
     "text": [
      "[12:11:55] WARNING: /Users/runner/work/xgboost/xgboost/src/learner.cc:1115: Starting in XGBoost 1.3.0, the default evaluation metric used with the objective 'binary:logistic' was changed from 'error' to 'logloss'. Explicitly set eval_metric if you'd like to restore the old behavior.\n",
      "[12:11:55] WARNING: /Users/runner/work/xgboost/xgboost/src/learner.cc:1115: Starting in XGBoost 1.3.0, the default evaluation metric used with the objective 'binary:logistic' was changed from 'error' to 'logloss'. Explicitly set eval_metric if you'd like to restore the old behavior.\n",
      "[12:11:56] WARNING: /Users/runner/work/xgboost/xgboost/src/learner.cc:1115: Starting in XGBoost 1.3.0, the default evaluation metric used with the objective 'binary:logistic' was changed from 'error' to 'logloss'. Explicitly set eval_metric if you'd like to restore the old behavior.\n"
     ]
    }
   ],
   "source": [
    "y_train_pred_xgb = cross_val_predict(clf_xgb, X_train_prepared_df, y_train, cv=3)"
   ]
  },
  {
   "cell_type": "code",
   "execution_count": 414,
   "id": "fabulous-blame",
   "metadata": {},
   "outputs": [
    {
     "data": {
      "text/plain": [
       "0.5384615384615385"
      ]
     },
     "execution_count": 414,
     "metadata": {},
     "output_type": "execute_result"
    }
   ],
   "source": [
    "f1_score(y_train, y_train_pred_xgb)"
   ]
  },
  {
   "cell_type": "code",
   "execution_count": null,
   "id": "hydraulic-tobacco",
   "metadata": {},
   "outputs": [],
   "source": [
    "y_probas_xgb = cross_val_predict(clf_xgb, X_train_prepared_df, y_train, cv=3, method=\"predict_proba\")"
   ]
  },
  {
   "cell_type": "code",
   "execution_count": null,
   "id": "announced-conference",
   "metadata": {},
   "outputs": [],
   "source": [
    "y_scores_xgb = y_probas_xgb[:,1] # score = probability of positive class\n",
    "fpr_xgb, tpr_xgb, thresholds_xgb = roc_curve(y_train, y_scores_xgb)\n",
    "plot_roc_curve(fpr_xgb, tpr_xgb, \"XGBoost\")\n",
    "plt.legend(loc=\"lower right\")\n",
    "plt.show()"
   ]
  },
  {
   "cell_type": "code",
   "execution_count": null,
   "id": "frozen-concentration",
   "metadata": {},
   "outputs": [],
   "source": [
    "roc_auc_score(y_train, y_scores_xgb)"
   ]
  },
  {
   "cell_type": "code",
   "execution_count": null,
   "id": "postal-brunswick",
   "metadata": {},
   "outputs": [],
   "source": []
  }
 ],
 "metadata": {
  "kernelspec": {
   "display_name": "Python 3",
   "language": "python",
   "name": "python3"
  },
  "language_info": {
   "codemirror_mode": {
    "name": "ipython",
    "version": 3
   },
   "file_extension": ".py",
   "mimetype": "text/x-python",
   "name": "python",
   "nbconvert_exporter": "python",
   "pygments_lexer": "ipython3",
   "version": "3.8.6"
  }
 },
 "nbformat": 4,
 "nbformat_minor": 5
}
